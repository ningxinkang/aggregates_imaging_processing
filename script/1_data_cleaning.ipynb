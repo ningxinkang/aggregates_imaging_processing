{
 "cells": [
  {
   "cell_type": "markdown",
   "metadata": {},
   "source": [
    "Author: Ningxin Kang (nik010@ucsd.edu)\n",
    "\n",
    "Last Update: 10/13/2022\n",
    "\n",
    "# Dataset Cleaning"
   ]
  },
  {
   "cell_type": "code",
   "execution_count": 2,
   "metadata": {},
   "outputs": [],
   "source": [
    "import pandas as pd\n",
    "import numpy as np"
   ]
  },
  {
   "cell_type": "code",
   "execution_count": null,
   "metadata": {},
   "outputs": [],
   "source": [
    "def merging_info(dir_file_GFP, dir_file_DAPI, \n",
    "                 area_filter_low, area_filter_high, \n",
    "                 dir_GFP_output, dir_DAPI_output):\n",
    "    '''Merge individual datasets into a large dataframe.\n",
    "\n",
    "    :dir_file_GFP: Directory of GFP files\n",
    "    :dir_file_DAPI: Directory of DAPI files\n",
    "    :area_filter_low: Low threshold of Area\n",
    "    :area_filter_high: High threshold of Area\n",
    "    :dir_GFP_output: Directory of GFP dataframe output\n",
    "    :dir_DAPI_output: Directory of DAPI dataframe output\n",
    "\n",
    "    :returns: NA \n",
    "    :rtype: NA\n",
    "    '''  \n",
    "    \n",
    "    #########################\n",
    "    # Importing the dataset #\n",
    "    #########################\n",
    "    # Import the data\n",
    "    df_GFP = pd.read_csv(dir_file_GFP)\n",
    "    df_DAPI = pd.read_csv(dir_file_DAPI,sep = \",\")\n",
    "\n",
    "    # Change column name so they two dataframes matches\n",
    "    df_DAPI.rename({'Slice': 'Label'}, axis=1, inplace=True)\n",
    "\n",
    "    ########################\n",
    "    # Formating the df_GFP #\n",
    "    ########################\n",
    "    # Create a column recording the treatment of each sample\n",
    "    df_GFP['category'] = [re.search('^((?:[^_]*\\_){3})([^_]*)',df_GFP['Label'][i]).group(2) for i in range(df_GFP.shape[0])]\n",
    "\n",
    "    # Extract the id of mouse from column 'Label'\n",
    "    df_GFP['mouse_id'] = [re.search('^((?:[^_]*\\_){1})([^_]*)',df_GFP['Label'][i]).group(2) for i in range(df_GFP.shape[0])]\n",
    "\n",
    "    # Extract the if of picture from column 'Label'\n",
    "    df_GFP['picture_id'] = [re.search('^((?:[^_]*\\_){9})([^_.]*)',df_GFP['Label'][i]).group(2)\n",
    "                            for i in range(df_GFP.shape[0])]\n",
    "    df_GFP['picture_id'] = df_GFP['mouse_id'] + '_' + df_GFP['category'] + '_' + df_GFP['picture_id']      # combine mouth id and picture id\n",
    "\n",
    "    # Filter the aggregates by area\n",
    "    df_GFP = df_GFP[df_GFP.Area > area_filter_low]\n",
    "    df_GFP = df_GFP[df_GFP.Area < area_filter_high]\n",
    "    \n",
    "    #########################\n",
    "    # Formating the df_DAPI #\n",
    "    #########################\n",
    "    # Create a column recording the treatment of each sample\n",
    "    df_DAPI['category'] = [re.search('^((?:[^_]*\\_){3})([^_]*)',df_DAPI['Label'][i]).group(2) for i in range(df_DAPI.shape[0])]\n",
    "    # Extract the id of mouse from column 'Label'\n",
    "    df_DAPI['mouse_id'] = [re.search('^((?:[^_]*\\_){1})([^_]*)',df_DAPI['Label'][i]).group(2) for i in range(df_DAPI.shape[0])]\n",
    "    # Extract the if of picture from column 'Label'\n",
    "    df_DAPI['picture_id'] = [re.search('^((?:[^_]*\\_){9})([^_.]*)',df_DAPI['Label'][i]).group(2)\n",
    "                            for i in range(df_DAPI.shape[0])]\n",
    "    df_DAPI['picture_id'] = df_DAPI['mouse_id'] + '_' + df_DAPI['category'] + '_' + df_DAPI['picture_id']      # combine mouth id and picture id\n",
    "    df_DAPI = df_DAPI.drop(columns=['mouse_id',\"Label\",\"Mode\",\"IntDen\",\"category\"])\n",
    "    \n",
    "    \n",
    "    #############\n",
    "    # Exporting #\n",
    "    #############\n",
    "    df_GFP.to_csv(dir_GFP_output,sep = \",\",index = False)\n",
    "    df_DAPI.to_csv(dir_DAPI_output,sep = \",\",index = False)\n",
    "    \n",
    "    return(\"Finish Cleaning!!\")"
   ]
  },
  {
   "cell_type": "code",
   "execution_count": 86,
   "metadata": {},
   "outputs": [
    {
     "name": "stderr",
     "output_type": "stream",
     "text": [
      "/Users/sylvia618/miniconda3/lib/python3.7/site-packages/pandas/core/reshape/merge.py:1108: UserWarning: You are merging on int and float columns where the float values are not equal to their int representation\n",
      "  UserWarning,\n",
      "/Users/sylvia618/miniconda3/lib/python3.7/site-packages/pandas/core/reshape/merge.py:1097: UserWarning: You are merging on int and float columns where the float values are not equal to their int representation\n",
      "  UserWarning,\n"
     ]
    },
    {
     "data": {
      "text/plain": [
       "'Finish Cleaning!!'"
      ]
     },
     "execution_count": 86,
     "metadata": {},
     "output_type": "execute_result"
    }
   ],
   "source": [
    "dir_file_GFP = \"/Users/sylvia618/Desktop/Chen Lab/hek cells/input/BHBDiet_allfiles/filepath.xls\"\n",
    "dir_file_DAPI = \"/Users/sylvia618/Desktop/Chen Lab/hek cells/input/DAPI/filepath.xls\"\n",
    "dir_GFP_output = \"/Users/sylvia618/Desktop/Chen Lab/hek cells/input/GFP.csv\"\n",
    "dir_DAPI_output = \"/Users/sylvia618/Desktop/Chen Lab/hek cells/input/DAPI.csv\"\n",
    "area_filter_low = 0.416\n",
    "area_filter_high = 150\n",
    "merging_info(dir_file_GFP,dir_file_DAPI,area_filter_low,area_filter_high, dir_GFP_output,dir_DAPI_output)"
   ]
  },
  {
   "cell_type": "code",
   "execution_count": null,
   "metadata": {},
   "outputs": [],
   "source": [
    "from cmath import inf\n",
    "\n",
    "\n",
    "dir_file_GFP = \"/Users/sylvia618/Desktop/Chen Lab/HEK+RAB/input/individual_aggregates.csv\"\n",
    "dir_file_DAPI = \"/Users/sylvia618/Desktop/Chen Lab/HEK+RAB/input/summary_DAPI.csv\"\n",
    "dir_GFP_output = \"/Users/sylvia618/Desktop/Chen Lab/HEK+RAB/input/unfiltered_GFP.csv\"\n",
    "dir_DAPI_output = \"/Users/sylvia618/Desktop/Chen Lab/HEK+RAB/input/unfiltered_DAPI.csv\"\n",
    "area_filter_low = -inf\n",
    "area_filter_high = inf\n",
    "merging_info(dir_file_GFP,dir_file_DAPI,area_filter_low,area_filter_high, dir_GFP_output,dir_DAPI_output)"
   ]
  }
 ],
 "metadata": {
  "kernelspec": {
   "display_name": "Python 3.7.3 ('base')",
   "language": "python",
   "name": "python3"
  },
  "language_info": {
   "codemirror_mode": {
    "name": "ipython",
    "version": 3
   },
   "file_extension": ".py",
   "mimetype": "text/x-python",
   "name": "python",
   "nbconvert_exporter": "python",
   "pygments_lexer": "ipython3",
   "version": "3.7.3 (default, Mar 27 2019, 16:54:48) \n[Clang 4.0.1 (tags/RELEASE_401/final)]"
  },
  "orig_nbformat": 4,
  "vscode": {
   "interpreter": {
    "hash": "f2c54dd91b0e242b4c9bce8ee6f7986cd007d04d8e52a297b0a7bfa211c6a538"
   }
  }
 },
 "nbformat": 4,
 "nbformat_minor": 2
}
