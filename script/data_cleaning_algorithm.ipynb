{
 "cells": [
  {
   "cell_type": "markdown",
   "metadata": {},
   "source": [
    "Author: Ningxin Kang (nik010@ucsd.edu)\n",
    "\n",
    "Last Update: 10/11/2022\n",
    "\n",
    "# Dataset Cleaning"
   ]
  },
  {
   "cell_type": "code",
   "execution_count": 66,
   "metadata": {},
   "outputs": [],
   "source": [
    "import pandas as pd\n",
    "import matplotlib.pyplot as plt\n",
    "import numpy as np\n",
    "import seaborn as sns\n",
    "import xlrd\n",
    "import re"
   ]
  },
  {
   "cell_type": "code",
   "execution_count": 85,
   "metadata": {},
   "outputs": [],
   "source": [
    "def merging_info(dir_file_GFP,dir_file_DAPI,area_filter_low,area_filter_high, dir_GFP_output,dir_DAPI_output):\n",
    "    \n",
    "    #########################\n",
    "    # Importing the dataset #\n",
    "    #########################\n",
    "    # Import the data\n",
    "    file_GFP = pd.read_excel(dir_file_GFP)\n",
    "    file_DAPI = pd.read_excel(dir_file_DAPI)\n",
    "\n",
    "    # Create two new dataframe for storing the data\n",
    "    df_GFP = pd.DataFrame(columns=[\"Label\", \"Area\",\t\"Mean\",\t\"Mode\",\t\"Min\", \"Max\", \"IntDen\", \"RawIntDen\"])\n",
    "    df_DAPI = pd.DataFrame(columns=['Slice', 'Count', 'Total Area', 'Average Size', 'Area Fraction', 'Mean'])\n",
    "\n",
    "    # Read file and concate by line for BHB group\n",
    "    for file in file_GFP['filepath']:\n",
    "        df_GFP = pd.merge(df_GFP, pd.read_excel((file)), how = \"outer\")\n",
    "\n",
    "    # Read file and concate by line for BHB group\n",
    "    for file in file_DAPI['filepath']:\n",
    "        df_DAPI = pd.merge(df_DAPI, pd.read_csv((file), sep = \"\\t\"), how = \"outer\")\n",
    "\n",
    "    # Change column name so they two dataframes matches\n",
    "    df_DAPI.rename({'Slice': 'Label', \"Mean\": 'TotalMean'}, axis=1, inplace=True)\n",
    "    \n",
    "    ########################\n",
    "    # Formating the df_GFP #\n",
    "    ########################\n",
    "    # temporary, for this dataset only, to format the label\n",
    "    df_GFP['Label'] = [label.replace(\"GFP100MS\", \"GFP_100ms\") for label in df_GFP['Label']]\n",
    "    df_GFP['Label'] = [label.replace(\"6.5_CTRL\", \"CTRL_6.5\") for label in df_GFP['Label']]\n",
    "    df_GFP['Label'] = [label.replace(\"6.5_BHB\", \"BHB_6.5\") for label in df_GFP['Label']]\n",
    "    # scale the area from square cemtimeter tro square micrometer\n",
    "    df_GFP[\"Area\"] = [area*10e8 for area in df_GFP[\"Area\"]]\n",
    "    # Create a column recording the treatment of each sample\n",
    "    df_GFP['category'] = [re.search('^((?:[^_]*\\_){2})([^_]*)',df_GFP['Label'][i]).group(2) for i in range(df_GFP.shape[0])]\n",
    "    # Extract the id of mouse from column 'Label'\n",
    "    df_GFP['mouse_id'] = [re.search('LG.*_.*_.*[BL]',df_GFP['Label'][i]).group() for i in range(df_GFP.shape[0])]\n",
    "    # Extract the if of picture from column 'Label'\n",
    "    df_GFP['picture_id'] = [re.search('^((?:[^_]*\\_){8})([^_]*)',df_GFP['Label'][i]).group(2)\n",
    "                            for i in range(df_GFP.shape[0])]\n",
    "    df_GFP['picture_id'] = df_GFP['mouse_id'] + '_' + df_GFP['picture_id']      # combine mouth id and picture id\n",
    "\n",
    "    # change colname\n",
    "    df_GFP.columns.values[0] = \"sample_index\"\n",
    "\n",
    "    # Filter the aggregates by area\n",
    "    df_GFP = df_GFP[df_GFP.Area > area_filter_low]\n",
    "    df_GFP = df_GFP[df_GFP.Area < area_filter_high]\n",
    "\n",
    "    #########################\n",
    "    # Formating the df_DAPI #\n",
    "    #########################\n",
    "    # temporary, for this dataset only, to format the label\n",
    "    df_DAPI['Label'] = [label.replace(\"GFP100MS\", \"GFP_100ms\") for label in df_DAPI['Label']]\n",
    "    df_DAPI['Label'] = [label.replace(\"6.5_CTRL\", \"CTRL_6.5\") for label in df_DAPI['Label']]\n",
    "    df_DAPI['Label'] = [label.replace(\"6.5_BHB\", \"BHB_6.5\") for label in df_DAPI['Label']]\n",
    "    # Extract the id of mouse from column 'Label'\n",
    "    df_DAPI['mouse_id'] = [re.search('LG.*_.*_.*[BL]',df_DAPI['Label'][i]).group() for i in range(df_DAPI.shape[0])]\n",
    "    # Extract the if of picture from column 'Label'\n",
    "    df_DAPI['picture_id'] = [re.search('^((?:[^_]*\\_){8})([^_]*)',df_DAPI['Label'][i]).group(2)\n",
    "                            for i in range(df_DAPI.shape[0])]\n",
    "    df_DAPI['picture_id'] = df_DAPI['mouse_id'] + '_' + df_DAPI['picture_id']      # combine mouth id and picture id\n",
    "    df_DAPI = df_DAPI.drop(columns=['mouse_id',\"Label\"])\n",
    "    \n",
    "    #############\n",
    "    # Exporting #\n",
    "    #############\n",
    "    df_GFP.to_csv(dir_GFP_output,sep = \",\",index = False)\n",
    "    df_DAPI.to_csv(dir_DAPI_output,sep = \",\",index = False)\n",
    "    \n",
    "    return(\"Finish Cleaning!!\")"
   ]
  },
  {
   "cell_type": "code",
   "execution_count": 86,
   "metadata": {},
   "outputs": [
    {
     "name": "stderr",
     "output_type": "stream",
     "text": [
      "/Users/sylvia618/miniconda3/lib/python3.7/site-packages/pandas/core/reshape/merge.py:1108: UserWarning: You are merging on int and float columns where the float values are not equal to their int representation\n",
      "  UserWarning,\n",
      "/Users/sylvia618/miniconda3/lib/python3.7/site-packages/pandas/core/reshape/merge.py:1097: UserWarning: You are merging on int and float columns where the float values are not equal to their int representation\n",
      "  UserWarning,\n"
     ]
    },
    {
     "data": {
      "text/plain": [
       "'Finish Cleaning!!'"
      ]
     },
     "execution_count": 86,
     "metadata": {},
     "output_type": "execute_result"
    }
   ],
   "source": [
    "dir_file_GFP = \"/Users/sylvia618/Desktop/Chen Lab/hek cells/input/BHBDiet_allfiles/filepath.xls\"\n",
    "dir_file_DAPI = \"/Users/sylvia618/Desktop/Chen Lab/hek cells/input/DAPI/filepath.xls\"\n",
    "dir_GFP_output = \"/Users/sylvia618/Desktop/Chen Lab/hek cells/input/GFP.csv\"\n",
    "dir_DAPI_output = \"/Users/sylvia618/Desktop/Chen Lab/hek cells/input/DAPI.csv\"\n",
    "area_filter_low = 0.416\n",
    "area_filter_high = 150\n",
    "merging_info(dir_file_GFP,dir_file_DAPI,area_filter_low,area_filter_high, dir_GFP_output,dir_DAPI_output)"
   ]
  }
 ],
 "metadata": {
  "kernelspec": {
   "display_name": "Python 3.7.3 ('base')",
   "language": "python",
   "name": "python3"
  },
  "language_info": {
   "codemirror_mode": {
    "name": "ipython",
    "version": 3
   },
   "file_extension": ".py",
   "mimetype": "text/x-python",
   "name": "python",
   "nbconvert_exporter": "python",
   "pygments_lexer": "ipython3",
   "version": "3.7.3"
  },
  "orig_nbformat": 4,
  "vscode": {
   "interpreter": {
    "hash": "f2c54dd91b0e242b4c9bce8ee6f7986cd007d04d8e52a297b0a7bfa211c6a538"
   }
  }
 },
 "nbformat": 4,
 "nbformat_minor": 2
}
