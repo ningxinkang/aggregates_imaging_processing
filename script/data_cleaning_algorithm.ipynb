{
 "cells": [
  {
   "cell_type": "markdown",
   "metadata": {},
   "source": []
  },
  {
   "cell_type": "code",
   "execution_count": 66,
   "metadata": {},
   "outputs": [],
   "source": [
    "import pandas as pd\n",
    "import matplotlib.pyplot as plt\n",
    "import numpy as np\n",
    "import seaborn as sns\n",
    "import xlrd\n",
    "import re"
   ]
  },
  {
   "cell_type": "code",
   "execution_count": 67,
   "metadata": {},
   "outputs": [
    {
     "name": "stderr",
     "output_type": "stream",
     "text": [
      "/Users/sylvia618/miniconda3/lib/python3.7/site-packages/pandas/core/reshape/merge.py:1108: UserWarning: You are merging on int and float columns where the float values are not equal to their int representation\n",
      "  UserWarning,\n",
      "/Users/sylvia618/miniconda3/lib/python3.7/site-packages/pandas/core/reshape/merge.py:1097: UserWarning: You are merging on int and float columns where the float values are not equal to their int representation\n",
      "  UserWarning,\n"
     ]
    },
    {
     "name": "stdout",
     "output_type": "stream",
     "text": [
      "                                                   Label          Area   Mean  \\\n",
      "0   1  LG355_204_BHB_6.5_10x_DAPI100ms_GFP_100ms_1_XY...  1.414000e-07  255.0   \n",
      "1  87  LG355_204_BHB_6.5_10x_DAPI100ms_GFP_100ms_1_XY...  1.414000e-07  255.0   \n",
      "2   2  LG355_204_BHB_6.5_10x_DAPI100ms_GFP_100ms_1_XY...  1.664000e-08  255.0   \n",
      "3  20  LG355_204_BHB_6.5_10x_DAPI100ms_GFP_100ms_1_XY...  1.664000e-08  255.0   \n",
      "4  27  LG355_204_BHB_6.5_10x_DAPI100ms_GFP_100ms_1_XY...  1.664000e-08  255.0   \n",
      "\n",
      "   Mode  Min  Max    IntDen  RawIntDen  \n",
      "0   255  255  255  0.000036       8670  \n",
      "1   255  255  255  0.000036       8670  \n",
      "2   255  255  255  0.000004       1020  \n",
      "3   255  255  255  0.000004       1020  \n",
      "4   255  255  255  0.000004       1020  \n",
      "                                               Label  Count  Total Area  \\\n",
      "0  LG355_204_BHB_6.5_10x_DAPI100ms_GFP_100ms_1_XY...   2472    0.002000   \n",
      "1  LG355_204_BHB_6.5_10x_DAPI100ms_GFP_100ms_2_XY...   2383    0.002000   \n",
      "2  LG355_204_BHB_6.5_10x_DAPI100ms_GFP_100ms_3_XY...   2453    0.002000   \n",
      "3  LG355_204_BHB_6.5_10x_DAPI100ms_GFP_100ms_4_XY...   2527    0.002000   \n",
      "4  LG355_206_CTRL_6.5_10x_DAPI100ms_GFP_100ms_3_X...    235    0.000064   \n",
      "\n",
      "   Average Size  Area Fraction  TotalMean  \n",
      "0  7.426000e-07         32.100        255  \n",
      "1  7.112000e-07         29.600        255  \n",
      "2  7.551000e-07         32.300        255  \n",
      "3  7.202000e-07         31.800        255  \n",
      "4  2.720000e-07          1.115        255  \n"
     ]
    }
   ],
   "source": [
    "# Import the data\n",
    "file_GFP = pd.read_excel('/Users/sylvia618/Desktop/Chen Lab/hek cells/input/BHBDiet_allfiles/filepath.xls')\n",
    "file_DAPI = pd.read_excel('/Users/sylvia618/Desktop/Chen Lab/hek cells/input/DAPI/filepath.xls')\n",
    "\n",
    "# Create two new dataframe for storing the data\n",
    "df_GFP = pd.DataFrame(columns=[\"Label\", \"Area\",\t\"Mean\",\t\"Mode\",\t\"Min\", \"Max\", \"IntDen\", \"RawIntDen\"])\n",
    "df_DAPI = pd.DataFrame(columns=['Slice', 'Count', 'Total Area', 'Average Size', 'Area Fraction', 'Mean'])\n",
    "\n",
    "# Read file and concate by line for BHB group\n",
    "for file in file_GFP['filepath']:\n",
    "    df_GFP = pd.merge(df_GFP, pd.read_excel((file)), how = \"outer\")\n",
    "\n",
    "print(df_GFP.head())\n",
    "\n",
    "# Read file and concate by line for BHB group\n",
    "for file in file_DAPI['Filepath']:\n",
    "    df_DAPI = pd.merge(df_DAPI, pd.read_csv((file), sep = \"\\t\"), how = \"outer\")\n",
    "\n",
    "# Change column name so they two dataframes matches\n",
    "df_DAPI.rename({'Slice': 'Label', \"Mean\": 'TotalMean'}, axis=1, inplace=True)\n",
    "print(df_DAPI.head())"
   ]
  },
  {
   "cell_type": "code",
   "execution_count": 68,
   "metadata": {},
   "outputs": [],
   "source": [
    "# Formating the df_GFP\n",
    "# temporary, for this dataset only, to format the label\n",
    "df_GFP['Label'] = [label.replace(\"GFP100MS\", \"GFP_100ms\") for label in df_GFP['Label']]\n",
    "df_GFP['Label'] = [label.replace(\"6.5_CTRL\", \"CTRL_6.5\") for label in df_GFP['Label']]\n",
    "df_GFP['Label'] = [label.replace(\"6.5_BHB\", \"BHB_6.5\") for label in df_GFP['Label']]\n",
    "# scale the area from square cemtimeter tro square micrometer\n",
    "df_GFP[\"Area\"] = [area*10e8 for area in df_GFP[\"Area\"]]\n",
    "# Create a column recording the treatment of each sample\n",
    "df_GFP['category'] = [re.search('^((?:[^_]*\\_){2})([^_]*)',df_GFP['Label'][i]).group(2) for i in range(df_GFP.shape[0])]\n",
    "# Extract the id of mouse from column 'Label'\n",
    "df_GFP['mouse_id'] = [re.search('LG.*_.*_.*[BL]',df_GFP['Label'][i]).group() for i in range(df_GFP.shape[0])]\n",
    "# Extract the if of picture from column 'Label'\n",
    "df_GFP['picture_id'] = [re.search('^((?:[^_]*\\_){8})([^_]*)',df_GFP['Label'][i]).group(2)\n",
    "                        for i in range(df_GFP.shape[0])]\n",
    "df_GFP['picture_id'] = df_GFP['mouse_id'] + '_' + df_GFP['picture_id']      # combine mouth id and picture id\n",
    "\n",
    "# change colname\n",
    "df_GFP.columns.values[0] = \"sample_index\"\n",
    "\n",
    "# Filter the aggregates by area\n",
    "df_GFP = df_GFP[df_GFP.Area > 0.416]\n",
    "df_GFP = df_GFP[df_GFP.Area < 150]\n",
    "#df_sum.to_csv(\"filtered_agg+CTRL.csv\",sep = \",\",index = False)\n",
    "#df_GFP"
   ]
  },
  {
   "cell_type": "code",
   "execution_count": 69,
   "metadata": {},
   "outputs": [],
   "source": [
    "# Formating the df_DAPI\n",
    "# temporary, for this dataset only, to format the label\n",
    "df_DAPI['Label'] = [label.replace(\"GFP100MS\", \"GFP_100ms\") for label in df_DAPI['Label']]\n",
    "df_DAPI['Label'] = [label.replace(\"6.5_CTRL\", \"CTRL_6.5\") for label in df_DAPI['Label']]\n",
    "df_DAPI['Label'] = [label.replace(\"6.5_BHB\", \"BHB_6.5\") for label in df_DAPI['Label']]\n",
    "# Extract the id of mouse from column 'Label'\n",
    "df_DAPI['mouse_id'] = [re.search('LG.*_.*_.*[BL]',df_DAPI['Label'][i]).group() for i in range(df_DAPI.shape[0])]\n",
    "# Extract the if of picture from column 'Label'\n",
    "df_DAPI['picture_id'] = [re.search('^((?:[^_]*\\_){8})([^_]*)',df_DAPI['Label'][i]).group(2)\n",
    "                        for i in range(df_DAPI.shape[0])]\n",
    "df_DAPI['picture_id'] = df_DAPI['mouse_id'] + '_' + df_DAPI['picture_id']      # combine mouth id and picture id\n",
    "df_DAPI = df_DAPI.drop(columns=['mouse_id',\"Label\"])\n",
    "#df_DAPI"
   ]
  },
  {
   "cell_type": "code",
   "execution_count": 70,
   "metadata": {},
   "outputs": [
    {
     "name": "stdout",
     "output_type": "stream",
     "text": [
      "      sample_index                                              Label    Area  \\\n",
      "0                1  LG355_204_BHB_6.5_10x_DAPI100ms_GFP_100ms_1_XY...  141.40   \n",
      "1               87  LG355_204_BHB_6.5_10x_DAPI100ms_GFP_100ms_1_XY...  141.40   \n",
      "2                2  LG355_204_BHB_6.5_10x_DAPI100ms_GFP_100ms_1_XY...   16.64   \n",
      "3               20  LG355_204_BHB_6.5_10x_DAPI100ms_GFP_100ms_1_XY...   16.64   \n",
      "4               27  LG355_204_BHB_6.5_10x_DAPI100ms_GFP_100ms_1_XY...   16.64   \n",
      "...            ...                                                ...     ...   \n",
      "4480            68  LG875_47_CTRL_6.5_DAPI100MS_GFP_100ms_10X_4_XY...    8.32   \n",
      "4481            69  LG875_47_CTRL_6.5_DAPI100MS_GFP_100ms_10X_4_XY...    4.16   \n",
      "4482            70  LG875_47_CTRL_6.5_DAPI100MS_GFP_100ms_10X_4_XY...    4.16   \n",
      "4483            71  LG875_47_CTRL_6.5_DAPI100MS_GFP_100ms_10X_4_XY...    4.16   \n",
      "4484            72  LG875_47_CTRL_6.5_DAPI100MS_GFP_100ms_10X_4_XY...    4.16   \n",
      "\n",
      "       Mean  Mode  Min  Max    IntDen  RawIntDen category       mouse_id  \\\n",
      "0     255.0   255  255  255  0.000036       8670      BHB  LG355_204_BHB   \n",
      "1     255.0   255  255  255  0.000036       8670      BHB  LG355_204_BHB   \n",
      "2     255.0   255  255  255  0.000004       1020      BHB  LG355_204_BHB   \n",
      "3     255.0   255  255  255  0.000004       1020      BHB  LG355_204_BHB   \n",
      "4     255.0   255  255  255  0.000004       1020      BHB  LG355_204_BHB   \n",
      "...     ...   ...  ...  ...       ...        ...      ...            ...   \n",
      "4480  255.0   255  255  255  0.000002        510     CTRL  LG875_47_CTRL   \n",
      "4481  255.0   255  255  255  0.000001        255     CTRL  LG875_47_CTRL   \n",
      "4482  255.0   255  255  255  0.000001        255     CTRL  LG875_47_CTRL   \n",
      "4483  255.0   255  255  255  0.000001        255     CTRL  LG875_47_CTRL   \n",
      "4484  255.0   255  255  255  0.000001        255     CTRL  LG875_47_CTRL   \n",
      "\n",
      "           picture_id   Count  Total Area  Average Size  Area Fraction  \\\n",
      "0     LG355_204_BHB_1  2472.0       0.002  7.426000e-07           32.1   \n",
      "1     LG355_204_BHB_1  2472.0       0.002  7.426000e-07           32.1   \n",
      "2     LG355_204_BHB_1  2472.0       0.002  7.426000e-07           32.1   \n",
      "3     LG355_204_BHB_1  2472.0       0.002  7.426000e-07           32.1   \n",
      "4     LG355_204_BHB_1  2472.0       0.002  7.426000e-07           32.1   \n",
      "...               ...     ...         ...           ...            ...   \n",
      "4480  LG875_47_CTRL_4  2353.0       0.002  8.435000e-07           34.7   \n",
      "4481  LG875_47_CTRL_4  2353.0       0.002  8.435000e-07           34.7   \n",
      "4482  LG875_47_CTRL_4  2353.0       0.002  8.435000e-07           34.7   \n",
      "4483  LG875_47_CTRL_4  2353.0       0.002  8.435000e-07           34.7   \n",
      "4484  LG875_47_CTRL_4  2353.0       0.002  8.435000e-07           34.7   \n",
      "\n",
      "      TotalMean  \n",
      "0         255.0  \n",
      "1         255.0  \n",
      "2         255.0  \n",
      "3         255.0  \n",
      "4         255.0  \n",
      "...         ...  \n",
      "4480      255.0  \n",
      "4481      255.0  \n",
      "4482      255.0  \n",
      "4483      255.0  \n",
      "4484      255.0  \n",
      "\n",
      "[4485 rows x 17 columns]\n"
     ]
    }
   ],
   "source": [
    "# merge the total area of aggregates per pic and DAPI by picture id\n",
    "df_total = pd.merge(df_GFP, df_DAPI, how = \"outer\", on = \"picture_id\")\n",
    "df_total.to_csv(\"/Users/sylvia618/Desktop/Chen Lab/hek cells/input/filtered_total_test.csv\",sep = \",\",index = False)\n",
    "print(df_total)"
   ]
  },
  {
   "cell_type": "code",
   "execution_count": 72,
   "metadata": {},
   "outputs": [],
   "source": [
    "dir_file_GFP = \"/Users/sylvia618/Desktop/Chen Lab/hek cells/input/BHBDiet_allfiles/filepath.xls\"\n",
    "dir_file_DAPI = \"/Users/sylvia618/Desktop/Chen Lab/hek cells/input/DAPI/filepath.xls\"\n",
    "dir_output = \"/Users/sylvia618/Desktop/Chen Lab/hek cells/input/filtered_total_test2.csv\"\n",
    "area_filter_low = 0.416\n",
    "area_filter_high = 150\n",
    "def merging_info(dir_file_GFP,dir_file_DAPI,area_filter_low,area_filter_high):\n",
    "    # Import the data\n",
    "    file_GFP = pd.read_excel(dir_file_GFP)\n",
    "    file_DAPI = pd.read_excel(dir_file_DAPI)\n",
    "\n",
    "    # Create two new dataframe for storing the data\n",
    "    df_GFP = pd.DataFrame(columns=[\"Label\", \"Area\",\t\"Mean\",\t\"Mode\",\t\"Min\", \"Max\", \"IntDen\", \"RawIntDen\"])\n",
    "    df_DAPI = pd.DataFrame(columns=['Slice', 'Count', 'Total Area', 'Average Size', 'Area Fraction', 'Mean'])\n",
    "\n",
    "    # Read file and concate by line for BHB group\n",
    "    for file in file_GFP['filepath']:\n",
    "        df_GFP = pd.merge(df_GFP, pd.read_excel((file)), how = \"outer\")\n",
    "\n",
    "    # Read file and concate by line for BHB group\n",
    "    for file in file_DAPI['filepath']:\n",
    "        df_DAPI = pd.merge(df_DAPI, pd.read_csv((file), sep = \"\\t\"), how = \"outer\")\n",
    "\n",
    "    # Change column name so they two dataframes matches\n",
    "    df_DAPI.rename({'Slice': 'Label', \"Mean\": 'TotalMean'}, axis=1, inplace=True)\n",
    "    \n",
    "    # Formating the df_GFP\n",
    "    # temporary, for this dataset only, to format the label\n",
    "    df_GFP['Label'] = [label.replace(\"GFP100MS\", \"GFP_100ms\") for label in df_GFP['Label']]\n",
    "    df_GFP['Label'] = [label.replace(\"6.5_CTRL\", \"CTRL_6.5\") for label in df_GFP['Label']]\n",
    "    df_GFP['Label'] = [label.replace(\"6.5_BHB\", \"BHB_6.5\") for label in df_GFP['Label']]\n",
    "    # scale the area from square cemtimeter tro square micrometer\n",
    "    df_GFP[\"Area\"] = [area*10e8 for area in df_GFP[\"Area\"]]\n",
    "    # Create a column recording the treatment of each sample\n",
    "    df_GFP['category'] = [re.search('^((?:[^_]*\\_){2})([^_]*)',df_GFP['Label'][i]).group(2) for i in range(df_GFP.shape[0])]\n",
    "    # Extract the id of mouse from column 'Label'\n",
    "    df_GFP['mouse_id'] = [re.search('LG.*_.*_.*[BL]',df_GFP['Label'][i]).group() for i in range(df_GFP.shape[0])]\n",
    "    # Extract the if of picture from column 'Label'\n",
    "    df_GFP['picture_id'] = [re.search('^((?:[^_]*\\_){8})([^_]*)',df_GFP['Label'][i]).group(2)\n",
    "                            for i in range(df_GFP.shape[0])]\n",
    "    df_GFP['picture_id'] = df_GFP['mouse_id'] + '_' + df_GFP['picture_id']      # combine mouth id and picture id\n",
    "\n",
    "    # change colname\n",
    "    df_GFP.columns.values[0] = \"sample_index\"\n",
    "\n",
    "    # Filter the aggregates by area\n",
    "    df_GFP = df_GFP[df_GFP.Area > area_filter_low]\n",
    "    df_GFP = df_GFP[df_GFP.Area < area_filter_high]\n",
    "\n",
    "    # Formating the df_DAPI\n",
    "    # temporary, for this dataset only, to format the label\n",
    "    df_DAPI['Label'] = [label.replace(\"GFP100MS\", \"GFP_100ms\") for label in df_DAPI['Label']]\n",
    "    df_DAPI['Label'] = [label.replace(\"6.5_CTRL\", \"CTRL_6.5\") for label in df_DAPI['Label']]\n",
    "    df_DAPI['Label'] = [label.replace(\"6.5_BHB\", \"BHB_6.5\") for label in df_DAPI['Label']]\n",
    "    # Extract the id of mouse from column 'Label'\n",
    "    df_DAPI['mouse_id'] = [re.search('LG.*_.*_.*[BL]',df_DAPI['Label'][i]).group() for i in range(df_DAPI.shape[0])]\n",
    "    # Extract the if of picture from column 'Label'\n",
    "    df_DAPI['picture_id'] = [re.search('^((?:[^_]*\\_){8})([^_]*)',df_DAPI['Label'][i]).group(2)\n",
    "                            for i in range(df_DAPI.shape[0])]\n",
    "    df_DAPI['picture_id'] = df_DAPI['mouse_id'] + '_' + df_DAPI['picture_id']      # combine mouth id and picture id\n",
    "    df_DAPI = df_DAPI.drop(columns=['mouse_id',\"Label\"])\n",
    "\n",
    "    # merge the total area of aggregates per pic and DAPI by picture id\n",
    "    df_total = pd.merge(df_GFP, df_DAPI, how = \"outer\", on = \"picture_id\")\n",
    "    df_total.to_csv(dir_output,sep = \",\",index = False)\n",
    "    \n",
    "    return(\"Finish Cleaning!!\")"
   ]
  },
  {
   "cell_type": "code",
   "execution_count": 73,
   "metadata": {},
   "outputs": [
    {
     "name": "stderr",
     "output_type": "stream",
     "text": [
      "/Users/sylvia618/miniconda3/lib/python3.7/site-packages/pandas/core/reshape/merge.py:1108: UserWarning: You are merging on int and float columns where the float values are not equal to their int representation\n",
      "  UserWarning,\n",
      "/Users/sylvia618/miniconda3/lib/python3.7/site-packages/pandas/core/reshape/merge.py:1097: UserWarning: You are merging on int and float columns where the float values are not equal to their int representation\n",
      "  UserWarning,\n"
     ]
    },
    {
     "data": {
      "text/plain": [
       "'Finish Cleaning!!'"
      ]
     },
     "execution_count": 73,
     "metadata": {},
     "output_type": "execute_result"
    }
   ],
   "source": [
    "merging_info(dir_file_GFP,dir_file_DAPI,area_filter_low,area_filter_high)"
   ]
  }
 ],
 "metadata": {
  "kernelspec": {
   "display_name": "Python 3.7.3 ('base')",
   "language": "python",
   "name": "python3"
  },
  "language_info": {
   "codemirror_mode": {
    "name": "ipython",
    "version": 3
   },
   "file_extension": ".py",
   "mimetype": "text/x-python",
   "name": "python",
   "nbconvert_exporter": "python",
   "pygments_lexer": "ipython3",
   "version": "3.7.3"
  },
  "orig_nbformat": 4,
  "vscode": {
   "interpreter": {
    "hash": "f2c54dd91b0e242b4c9bce8ee6f7986cd007d04d8e52a297b0a7bfa211c6a538"
   }
  }
 },
 "nbformat": 4,
 "nbformat_minor": 2
}
