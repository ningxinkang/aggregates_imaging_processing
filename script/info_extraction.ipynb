{
 "cells": [
  {
   "cell_type": "markdown",
   "metadata": {},
   "source": [
    "Author: Ningxin Kang (nik010@ucsd.edu)\n",
    "\n",
    "Last Update: 10/11/2022\n",
    "\n",
    "# Feature extraction and formatting"
   ]
  },
  {
   "cell_type": "code",
   "execution_count": 2,
   "metadata": {},
   "outputs": [],
   "source": [
    "import pandas as pd\n",
    "import matplotlib.pyplot as plt\n",
    "import numpy as np\n",
    "import seaborn as sns\n",
    "import xlrd\n",
    "import re"
   ]
  },
  {
   "cell_type": "code",
   "execution_count": 42,
   "metadata": {},
   "outputs": [],
   "source": [
    "def info_extraction(mode,feature,\n",
    "                    GFP_dir_input, DAPI_dir_input, \n",
    "                    per_pic_dir_output, per_mouse_dir_output, \n",
    "                    norm_pic_dir_output,norm_mouse_dir_output):\n",
    "    \n",
    "    df_GFP = pd.read_csv(GFP_dir_input,sep = ',')\n",
    "    df_DAPI = pd.read_csv(DAPI_dir_input,sep = ',')\n",
    "    \n",
    "    if mode == \"count\":\n",
    "        per_pic = pd.DataFrame(df_GFP.groupby(['picture_id']).count())\n",
    "        # Rename and extract the targeted column\n",
    "        per_pic.rename({'sample_index': feature}, axis=1, inplace=True)\n",
    "    elif mode == \"avg\":\n",
    "        per_pic = pd.DataFrame(df_GFP.groupby(['picture_id']).mean())\n",
    "    elif mode == \"total\":\n",
    "        per_pic = pd.DataFrame(df_GFP.groupby(['picture_id']).sum())\n",
    "    \n",
    "    # Format the dataframe by change rownames to column and use index as rownames\n",
    "    per_pic = per_pic.rename_axis(\"picture_id\").reset_index()\n",
    "\n",
    "    # extract mouse id\n",
    "    per_pic['mouse_id'] = [re.search('LG.*_.*_.*[BL]',per_pic['picture_id'][i]).group()\n",
    "                            for i in range(per_pic.shape[0])]\n",
    "    # extract category\n",
    "    per_pic['category'] = [per_pic['mouse_id'][i].split('_')[-1]\n",
    "                            for i in range(per_pic.shape[0])]\n",
    "    \n",
    "    per_pic = per_pic.loc[:,[\"category\",\"mouse_id\",\"picture_id\",feature]]\n",
    "\n",
    "    # Output dataframe\n",
    "    per_pic.to_csv(per_pic_dir_output, sep = \",\", index = False)\n",
    "    \n",
    "    # Calculate mean count for each mouse\n",
    "    per_mouse = pd.DataFrame(per_pic.groupby(['mouse_id']).mean())\n",
    "    # Format the dataframe by change rownames to column and use index as rownames\n",
    "    per_mouse = per_mouse.rename_axis(\"mouse_id\").reset_index()\n",
    "    # extract category\n",
    "    per_mouse['category'] = [per_mouse['mouse_id'][i].split('_')[-1]\n",
    "                            for i in range(per_mouse.shape[0])]\n",
    "\n",
    "    # Output dataframe\n",
    "    per_mouse.to_csv(per_mouse_dir_output,sep = \",\",index = False)\n",
    "    \n",
    "    if mode == \"total\" or mode == \"count\":\n",
    "        norm_feature = feature+'_vs_DAPI'\n",
    "        # merge the total area of aggregates per pic and DAPI by picture id\n",
    "        merge_per_pic = pd.merge(per_pic, df_DAPI, how = \"inner\", on = \"picture_id\")\n",
    "        \n",
    "        # Calculate total area per DAPI and total IntDen per DAPI\n",
    "        merge_per_pic[norm_feature] = merge_per_pic[feature]/merge_per_pic['Count']\n",
    "        # Select columns\n",
    "        merge_per_pic = merge_per_pic.loc[:,[\"category\",\"mouse_id\",\"picture_id\",norm_feature]]\n",
    "\n",
    "        merge_per_pic.to_csv(norm_pic_dir_output,sep = \",\",index = False)\n",
    "        \n",
    "        # Calculate mean count for each mouse\n",
    "        merge_per_mouse = pd.DataFrame(merge_per_pic.groupby(['mouse_id']).mean())\n",
    "        # Format the dataframe by change rownames to column and use index as rownames\n",
    "        merge_per_mouse = merge_per_mouse.rename_axis(\"mouse_id\").reset_index()\n",
    "        # extract category\n",
    "        merge_per_mouse['category'] = [merge_per_mouse['mouse_id'][i].split('_')[-1]\n",
    "                                for i in range(merge_per_mouse.shape[0])]\n",
    "\n",
    "        merge_per_mouse.to_csv(norm_mouse_dir_output,sep = \",\",index = False)\n",
    "    return(\"Finish generating dataframes regarding: \" + feature +\" with Mode: \" + mode)\n",
    "\n",
    "\n"
   ]
  },
  {
   "cell_type": "code",
   "execution_count": 48,
   "metadata": {},
   "outputs": [
    {
     "data": {
      "text/plain": [
       "'Finish generating dataframes regarding: IntDen with Mode: total'"
      ]
     },
     "execution_count": 48,
     "metadata": {},
     "output_type": "execute_result"
    }
   ],
   "source": [
    "########################################\n",
    "# 1. Total IntDen & Total IntDen / DAPI#\n",
    "########################################\n",
    "# mode = [\"count\",\"avg\",\"total\"]\n",
    "dir_output = \"/Users/sylvia618/Desktop/Chen Lab/hek cells/input/v2/\"\n",
    "mode = \"total\"\n",
    "feature = \"IntDen\"\n",
    "dir_input = \"/Users/sylvia618/Desktop/Chen Lab/hek cells/input/\"\n",
    "GFP_dir_input = dir_input + \"GFP.csv\"\n",
    "DAPI_dir_input = dir_input + \"DAPI.csv\"\n",
    "per_pic_dir_output = dir_output+\"total_IntDen_per_pic.csv\"\n",
    "per_mouse_dir_output = dir_output+\"total_IntDen_per_mouse.csv\"\n",
    "norm_pic_dir_output = dir_output+\"IntDen_vs_DAPI_per_pic.csv\"\n",
    "norm_mouse_dir_output = dir_output+\"IntDen_vs_DAPI_per_mouse.csv\"\n",
    "\n",
    "info_extraction(mode, feature,\n",
    "                GFP_dir_input, DAPI_dir_input, \n",
    "                per_pic_dir_output, per_mouse_dir_output, \n",
    "                norm_pic_dir_output,norm_mouse_dir_output\n",
    "                )"
   ]
  },
  {
   "cell_type": "code",
   "execution_count": 49,
   "metadata": {},
   "outputs": [
    {
     "data": {
      "text/plain": [
       "'Finish generating dataframes regarding: Area with Mode: total'"
      ]
     },
     "execution_count": 49,
     "metadata": {},
     "output_type": "execute_result"
    }
   ],
   "source": [
    "####################################\n",
    "# 2. Total area & Total area / DAPI#\n",
    "####################################\n",
    "# mode = [\"count\",\"avg\",\"total\"]\n",
    "dir_output = \"/Users/sylvia618/Desktop/Chen Lab/hek cells/input/v2/\"\n",
    "mode = \"total\"\n",
    "feature = \"Area\"\n",
    "dir_input = \"/Users/sylvia618/Desktop/Chen Lab/hek cells/input/\"\n",
    "GFP_dir_input = dir_input + \"GFP.csv\"\n",
    "DAPI_dir_input = dir_input + \"DAPI.csv\"\n",
    "per_pic_dir_output = dir_output+\"total_area_per_pic.csv\"\n",
    "per_mouse_dir_output = dir_output+\"total_area_per_mouse.csv\"\n",
    "norm_pic_dir_output = dir_output+\"area_vs_DAPI_per_pic.csv\"\n",
    "norm_mouse_dir_output = dir_output+\"area_vs_DAPI_per_mouse.csv\"\n",
    "\n",
    "info_extraction(mode, feature,\n",
    "                GFP_dir_input, DAPI_dir_input, \n",
    "                per_pic_dir_output, per_mouse_dir_output, \n",
    "                norm_pic_dir_output,norm_mouse_dir_output\n",
    "                )"
   ]
  },
  {
   "cell_type": "code",
   "execution_count": 50,
   "metadata": {},
   "outputs": [
    {
     "data": {
      "text/plain": [
       "'Finish generating dataframes regarding: num_aggregates with Mode: count'"
      ]
     },
     "execution_count": 50,
     "metadata": {},
     "output_type": "execute_result"
    }
   ],
   "source": [
    "########################################################\n",
    "# 3. Number of aggregates & Number of aggregates / DAPI#\n",
    "########################################################\n",
    "# mode = [\"count\",\"avg\",\"total\"]\n",
    "dir_output = \"/Users/sylvia618/Desktop/Chen Lab/hek cells/input/v2/\"\n",
    "mode = \"count\"\n",
    "feature = \"num_aggregates\"\n",
    "dir_input = \"/Users/sylvia618/Desktop/Chen Lab/hek cells/input/\"\n",
    "GFP_dir_input = dir_input + \"GFP.csv\"\n",
    "DAPI_dir_input = dir_input + \"DAPI.csv\"\n",
    "per_pic_dir_output = dir_output+\"agg_per_pic.csv\"\n",
    "per_mouse_dir_output = dir_output+\"agg_per_mouse.csv\"\n",
    "norm_pic_dir_output = dir_output+\"agg_vs_DAPI_per_pic.csv\"\n",
    "norm_mouse_dir_output = dir_output+\"agg_vs_DAPI_per_mouse.csv\"\n",
    "\n",
    "info_extraction(mode, feature,\n",
    "                GFP_dir_input, DAPI_dir_input, \n",
    "                per_pic_dir_output, per_mouse_dir_output, \n",
    "                norm_pic_dir_output,norm_mouse_dir_output\n",
    "                )"
   ]
  },
  {
   "cell_type": "code",
   "execution_count": 51,
   "metadata": {},
   "outputs": [
    {
     "data": {
      "text/plain": [
       "'Finish generating dataframes regarding: Area with Mode: avg'"
      ]
     },
     "execution_count": 51,
     "metadata": {},
     "output_type": "execute_result"
    }
   ],
   "source": [
    "##################\n",
    "# 4. Average area#\n",
    "##################\n",
    "# mode = [\"count\",\"avg\",\"total\"]\n",
    "dir_output = \"/Users/sylvia618/Desktop/Chen Lab/hek cells/input/v2/\"\n",
    "mode = \"avg\"\n",
    "feature = \"Area\"\n",
    "dir_input = \"/Users/sylvia618/Desktop/Chen Lab/hek cells/input/\"\n",
    "GFP_dir_input = dir_input + \"GFP.csv\"\n",
    "DAPI_dir_input = dir_input + \"DAPI.csv\"\n",
    "per_pic_dir_output = dir_output+\"avg_area_per_pic.csv\"\n",
    "per_mouse_dir_output = dir_output+\"avg_area_per_mouse.csv\"\n",
    "norm_pic_dir_output = None\n",
    "norm_mouse_dir_output = None\n",
    "\n",
    "info_extraction(mode, feature,\n",
    "                GFP_dir_input, DAPI_dir_input, \n",
    "                per_pic_dir_output, per_mouse_dir_output, \n",
    "                norm_pic_dir_output,norm_mouse_dir_output\n",
    "                )"
   ]
  },
  {
   "cell_type": "code",
   "execution_count": 52,
   "metadata": {},
   "outputs": [
    {
     "data": {
      "text/plain": [
       "'Finish generating dataframes regarding: IntDen with Mode: avg'"
      ]
     },
     "execution_count": 52,
     "metadata": {},
     "output_type": "execute_result"
    }
   ],
   "source": [
    "####################\n",
    "# 5. Average IntDen#\n",
    "####################\n",
    "# mode = [\"count\",\"avg\",\"total\"]\n",
    "dir_output = \"/Users/sylvia618/Desktop/Chen Lab/hek cells/input/v2/\"\n",
    "mode = \"avg\"\n",
    "feature = \"IntDen\"\n",
    "dir_input = \"/Users/sylvia618/Desktop/Chen Lab/hek cells/input/\"\n",
    "GFP_dir_input = dir_input + \"GFP.csv\"\n",
    "DAPI_dir_input = dir_input + \"DAPI.csv\"\n",
    "per_pic_dir_output = dir_output+\"avg_IntDen_per_pic.csv\"\n",
    "per_mouse_dir_output = dir_output+\"avg_IntDen_per_mouse.csv\"\n",
    "norm_pic_dir_output = None\n",
    "norm_mouse_dir_output = None\n",
    "\n",
    "info_extraction(mode, feature,\n",
    "                GFP_dir_input, DAPI_dir_input, \n",
    "                per_pic_dir_output, per_mouse_dir_output, \n",
    "                norm_pic_dir_output,norm_mouse_dir_output\n",
    "                )"
   ]
  }
 ],
 "metadata": {
  "kernelspec": {
   "display_name": "Python 3.7.3 ('base')",
   "language": "python",
   "name": "python3"
  },
  "language_info": {
   "codemirror_mode": {
    "name": "ipython",
    "version": 3
   },
   "file_extension": ".py",
   "mimetype": "text/x-python",
   "name": "python",
   "nbconvert_exporter": "python",
   "pygments_lexer": "ipython3",
   "version": "3.7.3"
  },
  "orig_nbformat": 4,
  "vscode": {
   "interpreter": {
    "hash": "f2c54dd91b0e242b4c9bce8ee6f7986cd007d04d8e52a297b0a7bfa211c6a538"
   }
  }
 },
 "nbformat": 4,
 "nbformat_minor": 2
}
