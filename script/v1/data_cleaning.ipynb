{
 "cells": [
  {
   "cell_type": "markdown",
   "id": "65186132",
   "metadata": {},
   "source": [
    "# Data Cleaning\n",
    "\n",
    "Name: Ningxin Kang (nik010@ucsd.edu)\n",
    "\n",
    "Last update: 10/04/2022"
   ]
  },
  {
   "cell_type": "code",
   "execution_count": 1,
   "id": "abd71d0d",
   "metadata": {},
   "outputs": [],
   "source": [
    "import pandas as pd\n",
    "import matplotlib.pyplot as plt\n",
    "import numpy as np\n",
    "import seaborn as sns\n",
    "import xlrd\n",
    "import re"
   ]
  },
  {
   "cell_type": "markdown",
   "id": "a5ce439d",
   "metadata": {},
   "source": [
    "## 1. Formatting and cleaning the overall dataset"
   ]
  },
  {
   "cell_type": "code",
   "execution_count": 2,
   "id": "1f6e9b2b-2e9d-4c10-ba80-36896bbf643a",
   "metadata": {},
   "outputs": [],
   "source": [
    "# Import the data\n",
    "df_files_BHB = pd.read_excel('/Users/sylvia618/Desktop/Chen Lab/hek cells/input/BHBDiet_allfiles/filepath_file_BHB.xls')\n",
    "df_files_CTRL = pd.read_excel('/Users/sylvia618/Desktop/Chen Lab/hek cells/input/BHBDiet_allfiles/filepath_file_CTRL.xls')"
   ]
  },
  {
   "cell_type": "code",
   "execution_count": 5,
   "id": "3ed2d535-7169-4563-a76b-b042544cb8dd",
   "metadata": {},
   "outputs": [
    {
     "ename": "FileNotFoundError",
     "evalue": "[Errno 2] No such file or directory: '/Users/danielmunozmayorga/Documents/BHB_HEK293T_TauCell_allimages/Analyzed_images/Count Results/results_LG355_204_GFP/Outlines_results_LG355_204_GFP_1.xls'",
     "output_type": "error",
     "traceback": [
      "\u001b[0;31m---------------------------------------------------------------------------\u001b[0m",
      "\u001b[0;31mFileNotFoundError\u001b[0m                         Traceback (most recent call last)",
      "\u001b[0;32m<ipython-input-5-61e4bf672c08>\u001b[0m in \u001b[0;36m<module>\u001b[0;34m\u001b[0m\n\u001b[1;32m      6\u001b[0m \u001b[0mtmp\u001b[0m \u001b[0;34m=\u001b[0m \u001b[0;34m[\u001b[0m\u001b[0mdf_BHB\u001b[0m\u001b[0;34m]\u001b[0m\u001b[0;34m\u001b[0m\u001b[0;34m\u001b[0m\u001b[0m\n\u001b[1;32m      7\u001b[0m \u001b[0;32mfor\u001b[0m \u001b[0mfile\u001b[0m \u001b[0;32min\u001b[0m \u001b[0mdf_files_BHB\u001b[0m\u001b[0;34m[\u001b[0m\u001b[0;34m'File path'\u001b[0m\u001b[0;34m]\u001b[0m\u001b[0;34m:\u001b[0m\u001b[0;34m\u001b[0m\u001b[0;34m\u001b[0m\u001b[0m\n\u001b[0;32m----> 8\u001b[0;31m     \u001b[0mtmp\u001b[0m\u001b[0;34m.\u001b[0m\u001b[0mappend\u001b[0m\u001b[0;34m(\u001b[0m\u001b[0mpd\u001b[0m\u001b[0;34m.\u001b[0m\u001b[0mread_excel\u001b[0m\u001b[0;34m(\u001b[0m\u001b[0mfile\u001b[0m\u001b[0;34m)\u001b[0m\u001b[0;34m)\u001b[0m\u001b[0;34m\u001b[0m\u001b[0;34m\u001b[0m\u001b[0m\n\u001b[0m\u001b[1;32m      9\u001b[0m \u001b[0mdf_BHB\u001b[0m \u001b[0;34m=\u001b[0m \u001b[0mpd\u001b[0m\u001b[0;34m.\u001b[0m\u001b[0mconcat\u001b[0m\u001b[0;34m(\u001b[0m\u001b[0mtmp\u001b[0m\u001b[0;34m)\u001b[0m\u001b[0;34m\u001b[0m\u001b[0;34m\u001b[0m\u001b[0m\n\u001b[1;32m     10\u001b[0m \u001b[0mdf_BHB\u001b[0m \u001b[0;34m=\u001b[0m \u001b[0mdf_BHB\u001b[0m\u001b[0;34m.\u001b[0m\u001b[0mreset_index\u001b[0m\u001b[0;34m(\u001b[0m\u001b[0mdrop\u001b[0m \u001b[0;34m=\u001b[0m \u001b[0;32mTrue\u001b[0m\u001b[0;34m)\u001b[0m\u001b[0;34m\u001b[0m\u001b[0;34m\u001b[0m\u001b[0m\n",
      "\u001b[0;32m~/miniconda3/lib/python3.7/site-packages/pandas/io/excel/_base.py\u001b[0m in \u001b[0;36mread_excel\u001b[0;34m(io, sheet_name, header, names, index_col, usecols, squeeze, dtype, engine, converters, true_values, false_values, skiprows, nrows, na_values, keep_default_na, verbose, parse_dates, date_parser, thousands, comment, skipfooter, convert_float, mangle_dupe_cols, **kwds)\u001b[0m\n\u001b[1;32m    302\u001b[0m \u001b[0;34m\u001b[0m\u001b[0m\n\u001b[1;32m    303\u001b[0m     \u001b[0;32mif\u001b[0m \u001b[0;32mnot\u001b[0m \u001b[0misinstance\u001b[0m\u001b[0;34m(\u001b[0m\u001b[0mio\u001b[0m\u001b[0;34m,\u001b[0m \u001b[0mExcelFile\u001b[0m\u001b[0;34m)\u001b[0m\u001b[0;34m:\u001b[0m\u001b[0;34m\u001b[0m\u001b[0;34m\u001b[0m\u001b[0m\n\u001b[0;32m--> 304\u001b[0;31m         \u001b[0mio\u001b[0m \u001b[0;34m=\u001b[0m \u001b[0mExcelFile\u001b[0m\u001b[0;34m(\u001b[0m\u001b[0mio\u001b[0m\u001b[0;34m,\u001b[0m \u001b[0mengine\u001b[0m\u001b[0;34m=\u001b[0m\u001b[0mengine\u001b[0m\u001b[0;34m)\u001b[0m\u001b[0;34m\u001b[0m\u001b[0;34m\u001b[0m\u001b[0m\n\u001b[0m\u001b[1;32m    305\u001b[0m     \u001b[0;32melif\u001b[0m \u001b[0mengine\u001b[0m \u001b[0;32mand\u001b[0m \u001b[0mengine\u001b[0m \u001b[0;34m!=\u001b[0m \u001b[0mio\u001b[0m\u001b[0;34m.\u001b[0m\u001b[0mengine\u001b[0m\u001b[0;34m:\u001b[0m\u001b[0;34m\u001b[0m\u001b[0;34m\u001b[0m\u001b[0m\n\u001b[1;32m    306\u001b[0m         raise ValueError(\n",
      "\u001b[0;32m~/miniconda3/lib/python3.7/site-packages/pandas/io/excel/_base.py\u001b[0m in \u001b[0;36m__init__\u001b[0;34m(self, io, engine)\u001b[0m\n\u001b[1;32m    822\u001b[0m         \u001b[0mself\u001b[0m\u001b[0;34m.\u001b[0m\u001b[0m_io\u001b[0m \u001b[0;34m=\u001b[0m \u001b[0mstringify_path\u001b[0m\u001b[0;34m(\u001b[0m\u001b[0mio\u001b[0m\u001b[0;34m)\u001b[0m\u001b[0;34m\u001b[0m\u001b[0;34m\u001b[0m\u001b[0m\n\u001b[1;32m    823\u001b[0m \u001b[0;34m\u001b[0m\u001b[0m\n\u001b[0;32m--> 824\u001b[0;31m         \u001b[0mself\u001b[0m\u001b[0;34m.\u001b[0m\u001b[0m_reader\u001b[0m \u001b[0;34m=\u001b[0m \u001b[0mself\u001b[0m\u001b[0;34m.\u001b[0m\u001b[0m_engines\u001b[0m\u001b[0;34m[\u001b[0m\u001b[0mengine\u001b[0m\u001b[0;34m]\u001b[0m\u001b[0;34m(\u001b[0m\u001b[0mself\u001b[0m\u001b[0;34m.\u001b[0m\u001b[0m_io\u001b[0m\u001b[0;34m)\u001b[0m\u001b[0;34m\u001b[0m\u001b[0;34m\u001b[0m\u001b[0m\n\u001b[0m\u001b[1;32m    825\u001b[0m \u001b[0;34m\u001b[0m\u001b[0m\n\u001b[1;32m    826\u001b[0m     \u001b[0;32mdef\u001b[0m \u001b[0m__fspath__\u001b[0m\u001b[0;34m(\u001b[0m\u001b[0mself\u001b[0m\u001b[0;34m)\u001b[0m\u001b[0;34m:\u001b[0m\u001b[0;34m\u001b[0m\u001b[0;34m\u001b[0m\u001b[0m\n",
      "\u001b[0;32m~/miniconda3/lib/python3.7/site-packages/pandas/io/excel/_xlrd.py\u001b[0m in \u001b[0;36m__init__\u001b[0;34m(self, filepath_or_buffer)\u001b[0m\n\u001b[1;32m     19\u001b[0m         \u001b[0merr_msg\u001b[0m \u001b[0;34m=\u001b[0m \u001b[0;34m\"Install xlrd >= 1.0.0 for Excel support\"\u001b[0m\u001b[0;34m\u001b[0m\u001b[0;34m\u001b[0m\u001b[0m\n\u001b[1;32m     20\u001b[0m         \u001b[0mimport_optional_dependency\u001b[0m\u001b[0;34m(\u001b[0m\u001b[0;34m\"xlrd\"\u001b[0m\u001b[0;34m,\u001b[0m \u001b[0mextra\u001b[0m\u001b[0;34m=\u001b[0m\u001b[0merr_msg\u001b[0m\u001b[0;34m)\u001b[0m\u001b[0;34m\u001b[0m\u001b[0;34m\u001b[0m\u001b[0m\n\u001b[0;32m---> 21\u001b[0;31m         \u001b[0msuper\u001b[0m\u001b[0;34m(\u001b[0m\u001b[0;34m)\u001b[0m\u001b[0;34m.\u001b[0m\u001b[0m__init__\u001b[0m\u001b[0;34m(\u001b[0m\u001b[0mfilepath_or_buffer\u001b[0m\u001b[0;34m)\u001b[0m\u001b[0;34m\u001b[0m\u001b[0;34m\u001b[0m\u001b[0m\n\u001b[0m\u001b[1;32m     22\u001b[0m \u001b[0;34m\u001b[0m\u001b[0m\n\u001b[1;32m     23\u001b[0m     \u001b[0;34m@\u001b[0m\u001b[0mproperty\u001b[0m\u001b[0;34m\u001b[0m\u001b[0;34m\u001b[0m\u001b[0m\n",
      "\u001b[0;32m~/miniconda3/lib/python3.7/site-packages/pandas/io/excel/_base.py\u001b[0m in \u001b[0;36m__init__\u001b[0;34m(self, filepath_or_buffer)\u001b[0m\n\u001b[1;32m    351\u001b[0m             \u001b[0mself\u001b[0m\u001b[0;34m.\u001b[0m\u001b[0mbook\u001b[0m \u001b[0;34m=\u001b[0m \u001b[0mself\u001b[0m\u001b[0;34m.\u001b[0m\u001b[0mload_workbook\u001b[0m\u001b[0;34m(\u001b[0m\u001b[0mfilepath_or_buffer\u001b[0m\u001b[0;34m)\u001b[0m\u001b[0;34m\u001b[0m\u001b[0;34m\u001b[0m\u001b[0m\n\u001b[1;32m    352\u001b[0m         \u001b[0;32melif\u001b[0m \u001b[0misinstance\u001b[0m\u001b[0;34m(\u001b[0m\u001b[0mfilepath_or_buffer\u001b[0m\u001b[0;34m,\u001b[0m \u001b[0mstr\u001b[0m\u001b[0;34m)\u001b[0m\u001b[0;34m:\u001b[0m\u001b[0;34m\u001b[0m\u001b[0;34m\u001b[0m\u001b[0m\n\u001b[0;32m--> 353\u001b[0;31m             \u001b[0mself\u001b[0m\u001b[0;34m.\u001b[0m\u001b[0mbook\u001b[0m \u001b[0;34m=\u001b[0m \u001b[0mself\u001b[0m\u001b[0;34m.\u001b[0m\u001b[0mload_workbook\u001b[0m\u001b[0;34m(\u001b[0m\u001b[0mfilepath_or_buffer\u001b[0m\u001b[0;34m)\u001b[0m\u001b[0;34m\u001b[0m\u001b[0;34m\u001b[0m\u001b[0m\n\u001b[0m\u001b[1;32m    354\u001b[0m         \u001b[0;32melif\u001b[0m \u001b[0misinstance\u001b[0m\u001b[0;34m(\u001b[0m\u001b[0mfilepath_or_buffer\u001b[0m\u001b[0;34m,\u001b[0m \u001b[0mbytes\u001b[0m\u001b[0;34m)\u001b[0m\u001b[0;34m:\u001b[0m\u001b[0;34m\u001b[0m\u001b[0;34m\u001b[0m\u001b[0m\n\u001b[1;32m    355\u001b[0m             \u001b[0mself\u001b[0m\u001b[0;34m.\u001b[0m\u001b[0mbook\u001b[0m \u001b[0;34m=\u001b[0m \u001b[0mself\u001b[0m\u001b[0;34m.\u001b[0m\u001b[0mload_workbook\u001b[0m\u001b[0;34m(\u001b[0m\u001b[0mBytesIO\u001b[0m\u001b[0;34m(\u001b[0m\u001b[0mfilepath_or_buffer\u001b[0m\u001b[0;34m)\u001b[0m\u001b[0;34m)\u001b[0m\u001b[0;34m\u001b[0m\u001b[0;34m\u001b[0m\u001b[0m\n",
      "\u001b[0;32m~/miniconda3/lib/python3.7/site-packages/pandas/io/excel/_xlrd.py\u001b[0m in \u001b[0;36mload_workbook\u001b[0;34m(self, filepath_or_buffer)\u001b[0m\n\u001b[1;32m     34\u001b[0m             \u001b[0;32mreturn\u001b[0m \u001b[0mopen_workbook\u001b[0m\u001b[0;34m(\u001b[0m\u001b[0mfile_contents\u001b[0m\u001b[0;34m=\u001b[0m\u001b[0mdata\u001b[0m\u001b[0;34m)\u001b[0m\u001b[0;34m\u001b[0m\u001b[0;34m\u001b[0m\u001b[0m\n\u001b[1;32m     35\u001b[0m         \u001b[0;32melse\u001b[0m\u001b[0;34m:\u001b[0m\u001b[0;34m\u001b[0m\u001b[0;34m\u001b[0m\u001b[0m\n\u001b[0;32m---> 36\u001b[0;31m             \u001b[0;32mreturn\u001b[0m \u001b[0mopen_workbook\u001b[0m\u001b[0;34m(\u001b[0m\u001b[0mfilepath_or_buffer\u001b[0m\u001b[0;34m)\u001b[0m\u001b[0;34m\u001b[0m\u001b[0;34m\u001b[0m\u001b[0m\n\u001b[0m\u001b[1;32m     37\u001b[0m \u001b[0;34m\u001b[0m\u001b[0m\n\u001b[1;32m     38\u001b[0m     \u001b[0;34m@\u001b[0m\u001b[0mproperty\u001b[0m\u001b[0;34m\u001b[0m\u001b[0;34m\u001b[0m\u001b[0m\n",
      "\u001b[0;32m~/miniconda3/lib/python3.7/site-packages/xlrd/__init__.py\u001b[0m in \u001b[0;36mopen_workbook\u001b[0;34m(filename, logfile, verbosity, use_mmap, file_contents, encoding_override, formatting_info, on_demand, ragged_rows, ignore_workbook_corruption)\u001b[0m\n\u001b[1;32m    164\u001b[0m     \"\"\"\n\u001b[1;32m    165\u001b[0m \u001b[0;34m\u001b[0m\u001b[0m\n\u001b[0;32m--> 166\u001b[0;31m     \u001b[0mfile_format\u001b[0m \u001b[0;34m=\u001b[0m \u001b[0minspect_format\u001b[0m\u001b[0;34m(\u001b[0m\u001b[0mfilename\u001b[0m\u001b[0;34m,\u001b[0m \u001b[0mfile_contents\u001b[0m\u001b[0;34m)\u001b[0m\u001b[0;34m\u001b[0m\u001b[0;34m\u001b[0m\u001b[0m\n\u001b[0m\u001b[1;32m    167\u001b[0m     \u001b[0;31m# We have to let unknown file formats pass through here, as some ancient\u001b[0m\u001b[0;34m\u001b[0m\u001b[0;34m\u001b[0m\u001b[0;34m\u001b[0m\u001b[0m\n\u001b[1;32m    168\u001b[0m     \u001b[0;31m# files that xlrd can parse don't start with the expected signature.\u001b[0m\u001b[0;34m\u001b[0m\u001b[0;34m\u001b[0m\u001b[0;34m\u001b[0m\u001b[0m\n",
      "\u001b[0;32m~/miniconda3/lib/python3.7/site-packages/xlrd/__init__.py\u001b[0m in \u001b[0;36minspect_format\u001b[0;34m(path, content)\u001b[0m\n\u001b[1;32m     58\u001b[0m     \u001b[0;32melse\u001b[0m\u001b[0;34m:\u001b[0m\u001b[0;34m\u001b[0m\u001b[0;34m\u001b[0m\u001b[0m\n\u001b[1;32m     59\u001b[0m         \u001b[0mpath\u001b[0m \u001b[0;34m=\u001b[0m \u001b[0mos\u001b[0m\u001b[0;34m.\u001b[0m\u001b[0mpath\u001b[0m\u001b[0;34m.\u001b[0m\u001b[0mexpanduser\u001b[0m\u001b[0;34m(\u001b[0m\u001b[0mpath\u001b[0m\u001b[0;34m)\u001b[0m\u001b[0;34m\u001b[0m\u001b[0;34m\u001b[0m\u001b[0m\n\u001b[0;32m---> 60\u001b[0;31m         \u001b[0;32mwith\u001b[0m \u001b[0mopen\u001b[0m\u001b[0;34m(\u001b[0m\u001b[0mpath\u001b[0m\u001b[0;34m,\u001b[0m \u001b[0;34m\"rb\"\u001b[0m\u001b[0;34m)\u001b[0m \u001b[0;32mas\u001b[0m \u001b[0mf\u001b[0m\u001b[0;34m:\u001b[0m\u001b[0;34m\u001b[0m\u001b[0;34m\u001b[0m\u001b[0m\n\u001b[0m\u001b[1;32m     61\u001b[0m             \u001b[0mpeek\u001b[0m \u001b[0;34m=\u001b[0m \u001b[0mf\u001b[0m\u001b[0;34m.\u001b[0m\u001b[0mread\u001b[0m\u001b[0;34m(\u001b[0m\u001b[0mPEEK_SIZE\u001b[0m\u001b[0;34m)\u001b[0m\u001b[0;34m\u001b[0m\u001b[0;34m\u001b[0m\u001b[0m\n\u001b[1;32m     62\u001b[0m \u001b[0;34m\u001b[0m\u001b[0m\n",
      "\u001b[0;31mFileNotFoundError\u001b[0m: [Errno 2] No such file or directory: '/Users/danielmunozmayorga/Documents/BHB_HEK293T_TauCell_allimages/Analyzed_images/Count Results/results_LG355_204_GFP/Outlines_results_LG355_204_GFP_1.xls'"
     ]
    }
   ],
   "source": [
    "# Create two new dataframe for storing the data\n",
    "df_BHB = pd.DataFrame()\n",
    "df_CTRL = pd.DataFrame()\n",
    "\n",
    "# Read file and concate by line for BHB group\n",
    "tmp = [df_BHB]\n",
    "for file in df_files_BHB['File path']:\n",
    "    tmp.append(pd.read_excel(file))\n",
    "df_BHB = pd.concat(tmp)\n",
    "df_BHB = df_BHB.reset_index(drop = True)\n",
    "print(df_BHB.head())\n",
    "\n",
    "# Read file and concate by line for CTRL group\n",
    "tmp = [df_CTRL]\n",
    "for file in df_files_CTRL['File path']:\n",
    "    tmp.append(pd.read_excel(file))\n",
    "df_CTRL = pd.concat(tmp)\n",
    "df_CTRL = df_CTRL.reset_index(drop = True)\n",
    "print(df_CTRL.head())"
   ]
  },
  {
   "cell_type": "code",
   "execution_count": null,
   "id": "1795f56e-c65c-4000-90ce-dd4b0e013605",
   "metadata": {},
   "outputs": [
    {
     "name": "stdout",
     "output_type": "stream",
     "text": [
      "                                                      Label          Area  \\\n",
      "0      1  LG355_204_BHB_6.5_10x_DAPI100ms_GFP_100ms_1_XY...  1.414000e-07   \n",
      "1      2  LG355_204_BHB_6.5_10x_DAPI100ms_GFP_100ms_1_XY...  1.664000e-08   \n",
      "2      3  LG355_204_BHB_6.5_10x_DAPI100ms_GFP_100ms_1_XY...  8.320000e-09   \n",
      "3      4  LG355_204_BHB_6.5_10x_DAPI100ms_GFP_100ms_1_XY...  6.656000e-08   \n",
      "5      6  LG355_204_BHB_6.5_10x_DAPI100ms_GFP_100ms_1_XY...  9.569000e-08   \n",
      "...   ..                                                ...           ...   \n",
      "5653  68  LG875_47_6.5_CTRL_DAPI100MS_GFP100MS_10X_4_XY1...  8.320000e-09   \n",
      "5654  69  LG875_47_6.5_CTRL_DAPI100MS_GFP100MS_10X_4_XY1...  4.160000e-09   \n",
      "5655  70  LG875_47_6.5_CTRL_DAPI100MS_GFP100MS_10X_4_XY1...  4.160000e-09   \n",
      "5656  71  LG875_47_6.5_CTRL_DAPI100MS_GFP100MS_10X_4_XY1...  4.160000e-09   \n",
      "5657  72  LG875_47_6.5_CTRL_DAPI100MS_GFP100MS_10X_4_XY1...  4.160000e-09   \n",
      "\n",
      "       Mean  Mode  Min  Max    IntDen  RawIntDen category  \n",
      "0     255.0   255  255  255  0.000036       8670      BHB  \n",
      "1     255.0   255  255  255  0.000004       1020      BHB  \n",
      "2     255.0   255  255  255  0.000002        510      BHB  \n",
      "3     255.0   255  255  255  0.000017       4080      BHB  \n",
      "5     255.0   255  255  255  0.000024       5865      BHB  \n",
      "...     ...   ...  ...  ...       ...        ...      ...  \n",
      "5653  255.0   255  255  255  0.000002        510     CTRL  \n",
      "5654  255.0   255  255  255  0.000001        255     CTRL  \n",
      "5655  255.0   255  255  255  0.000001        255     CTRL  \n",
      "5656  255.0   255  255  255  0.000001        255     CTRL  \n",
      "5657  255.0   255  255  255  0.000001        255     CTRL  \n",
      "\n",
      "[4620 rows x 10 columns]\n"
     ]
    },
    {
     "name": "stderr",
     "output_type": "stream",
     "text": [
      "C:\\Users\\jamfo\\AppData\\Local\\Programs\\Python\\Python310\\lib\\site-packages\\pandas\\core\\reshape\\merge.py:1219: UserWarning: You are merging on int and float columns where the float values are not equal to their int representation.\n",
      "  warnings.warn(\n"
     ]
    }
   ],
   "source": [
    "# Merge the two dataframe with new column categorize rows with diet group\n",
    "df_BHB[\"category\"] = \"BHB\"\n",
    "df_CTRL[\"category\"] = \"CTRL\"\n",
    "df_sum = pd.merge(df_BHB,df_CTRL,how = \"outer\")\n",
    "\n",
    "# Filter the aggregates by area\n",
    "df_sum = df_sum[df_sum.Area > 0.4160e-09]\n",
    "df_sum = df_sum[df_sum.Area < 1.5e-7]\n",
    "\n",
    "# change colname\n",
    "df_sum.columns.values[0] = \"sample_index\"\n",
    "\n",
    "# temp line\n",
    "#df_sum.to_csv(\"filtered_agg+CTRL.csv\",sep = \",\",index = False)"
   ]
  },
  {
   "cell_type": "code",
   "execution_count": 3,
   "id": "31be90c3",
   "metadata": {},
   "outputs": [
    {
     "name": "stdout",
     "output_type": "stream",
     "text": [
      "   sample_index                                              Label    Area  \\\n",
      "0             1  LG355_204_BHB_6.5_10x_DAPI100ms_GFP_100ms_1_XY...  141.40   \n",
      "1             2  LG355_204_BHB_6.5_10x_DAPI100ms_GFP_100ms_1_XY...   16.64   \n",
      "2             3  LG355_204_BHB_6.5_10x_DAPI100ms_GFP_100ms_1_XY...    8.32   \n",
      "3             4  LG355_204_BHB_6.5_10x_DAPI100ms_GFP_100ms_1_XY...   66.56   \n",
      "4             6  LG355_204_BHB_6.5_10x_DAPI100ms_GFP_100ms_1_XY...   95.69   \n",
      "\n",
      "    Mean  Mode  Min  Max    IntDen  RawIntDen category       mouse_id  \\\n",
      "0  255.0   255  255  255  0.000036       8670      BHB  LG355_204_BHB   \n",
      "1  255.0   255  255  255  0.000004       1020      BHB  LG355_204_BHB   \n",
      "2  255.0   255  255  255  0.000002        510      BHB  LG355_204_BHB   \n",
      "3  255.0   255  255  255  0.000017       4080      BHB  LG355_204_BHB   \n",
      "4  255.0   255  255  255  0.000024       5865      BHB  LG355_204_BHB   \n",
      "\n",
      "        picture_id  \n",
      "0  LG355_204_BHB_1  \n",
      "1  LG355_204_BHB_1  \n",
      "2  LG355_204_BHB_1  \n",
      "3  LG355_204_BHB_1  \n",
      "4  LG355_204_BHB_1  \n"
     ]
    }
   ],
   "source": [
    "#tmp line\n",
    "df_sum = pd.read_csv('/Users/sylvia618/Desktop/Chen Lab/hek cells/input/filtered_agg+CTRL.csv',sep = ',')\n",
    "# Scale the IntDen from square cetimeter to square micrometer\n",
    "df_sum[\"Area\"] = [area*10e8 for area in df_sum[\"Area\"]]\n",
    "\n",
    "# Extract the id of mouse from column 'Label'\n",
    "df_sum['mouse_id'] = [re.search('LG.*_.*_.*[BL]',df_sum['Label'][i]).group() for i in range(df_sum.shape[0])]\n",
    "# Extract the if of picture from column 'Label'\n",
    "df_sum['picture_id'] = [re.search('^((?:[^_]*\\_){8})([^_]*)',df_sum['Label'][i]).group(2)\n",
    "                        for i in range(df_sum.shape[0])]\n",
    "df_sum['picture_id'] = df_sum['mouse_id'] + '_' + df_sum['picture_id']      # combine mouth id and picture id\n",
    "\n",
    "# check the updated dataframe\n",
    "print(df_sum.head())\n",
    "# Output formated file\n",
    "df_sum.to_csv(\"/Users/sylvia618/Desktop/Chen Lab/hek cells/input/filtered_agg+CTRL_1.csv\",sep = \",\",index = False)"
   ]
  },
  {
   "cell_type": "markdown",
   "id": "4559b63e",
   "metadata": {},
   "source": [
    "## 2. Create file for number of aggregates per picture and per mouse"
   ]
  },
  {
   "cell_type": "code",
   "execution_count": 4,
   "id": "0fe8767d",
   "metadata": {},
   "outputs": [
    {
     "name": "stdout",
     "output_type": "stream",
     "text": [
      "         mouse_id category        picture_id  num_aggregates\n",
      "0   LG355_204_BHB      BHB   LG355_204_BHB_1             127\n",
      "1   LG355_204_BHB      BHB   LG355_204_BHB_2              84\n",
      "2   LG355_204_BHB      BHB   LG355_204_BHB_3              86\n",
      "3   LG355_204_BHB      BHB   LG355_204_BHB_4              93\n",
      "4  LG355_206_CTRL     CTRL  LG355_206_CTRL_1             178\n"
     ]
    }
   ],
   "source": [
    "# Count the number of aggregates per plate\n",
    "avg_agg_per_pic = pd.DataFrame(df_sum.groupby(['picture_id']).count())\n",
    "# Format the dataframe by change rownames to column and use index as rownames\n",
    "avg_agg_per_pic = avg_agg_per_pic.rename_axis(\"picture_id\").reset_index()\n",
    "# extract mouse id\n",
    "avg_agg_per_pic['mouse_id'] = [re.search('LG.*_.*_.*[BL]',avg_agg_per_pic['picture_id'][i]).group()\n",
    "                        for i in range(avg_agg_per_pic.shape[0])]\n",
    "# extract category\n",
    "avg_agg_per_pic['category'] = [avg_agg_per_pic['mouse_id'][i].split('_')[-1]\n",
    "                        for i in range(avg_agg_per_pic.shape[0])]\n",
    "# Rename and extract the targeted column\n",
    "avg_agg_per_pic.rename({'sample_index': 'num_aggregates'}, axis=1, inplace=True)\n",
    "avg_agg_per_pic = avg_agg_per_pic.iloc[:,[-1,-2,0,1]]\n",
    "\n",
    "# Check dataframe\n",
    "print(avg_agg_per_pic.head())\n",
    "\n",
    "# Output dataframe\n",
    "avg_agg_per_pic.to_csv(\"/Users/sylvia618/Desktop/Chen Lab/hek cells/input/avg_agg_per_pic.csv\",sep = \",\",index = False)"
   ]
  },
  {
   "cell_type": "code",
   "execution_count": 5,
   "id": "1f7e2009",
   "metadata": {},
   "outputs": [
    {
     "name": "stdout",
     "output_type": "stream",
     "text": [
      "             mouse_id  num_aggregates category\n",
      "0       LG355_204_BHB           97.50      BHB\n",
      "1      LG355_206_CTRL          222.25     CTRL\n",
      "2      LG355_207_CTRL          152.75     CTRL\n",
      "3  LG355_208_6.5_CTRL          121.25     CTRL\n",
      "4   LG355_210_6.5_BHB           99.75      BHB\n",
      "5        LG875_43_BHB           57.00      BHB\n",
      "6        LG875_44_BHB          164.00      BHB\n",
      "7   LG875_46_6.5_CTRL          191.50     CTRL\n",
      "8   LG875_47_6.5_CTRL           49.00     CTRL\n"
     ]
    }
   ],
   "source": [
    "# Calculate mean count for each mouse\n",
    "avg_agg_per_mouse = pd.DataFrame(avg_agg_per_pic.groupby(['mouse_id']).mean())\n",
    "# Format the dataframe by change rownames to column and use index as rownames\n",
    "avg_agg_per_mouse = avg_agg_per_mouse.rename_axis(\"mouse_id\").reset_index()\n",
    "# extract category\n",
    "avg_agg_per_mouse['category'] = [avg_agg_per_mouse['mouse_id'][i].split('_')[-1]\n",
    "                        for i in range(avg_agg_per_mouse.shape[0])]\n",
    "# check dataframe\n",
    "print(avg_agg_per_mouse)\n",
    "\n",
    "# Output dataframe\n",
    "avg_agg_per_mouse.to_csv(\"/Users/sylvia618/Desktop/Chen Lab/hek cells/input/avg_agg_per_mouse.csv\",sep = \",\",index = False)"
   ]
  },
  {
   "cell_type": "markdown",
   "id": "f6380338",
   "metadata": {},
   "source": [
    "## 3. Create file for average area and integrated density per picture and per mouse for single aggregates"
   ]
  },
  {
   "cell_type": "code",
   "execution_count": 59,
   "id": "a6c0c801",
   "metadata": {},
   "outputs": [
    {
     "name": "stdout",
     "output_type": "stream",
     "text": [
      "  category        mouse_id        picture_id       Area    IntDen\n",
      "0      BHB   LG355_204_BHB   LG355_204_BHB_1  38.685354  0.000010\n",
      "1      BHB   LG355_204_BHB   LG355_204_BHB_2  48.586905  0.000012\n",
      "2      BHB   LG355_204_BHB   LG355_204_BHB_3  47.165814  0.000012\n",
      "3      BHB   LG355_204_BHB   LG355_204_BHB_4  44.865376  0.000011\n",
      "4     CTRL  LG355_206_CTRL  LG355_206_CTRL_1  26.736573  0.000007\n"
     ]
    }
   ],
   "source": [
    "# Calculate mean count for each mouse\n",
    "avg_area_per_pic = pd.DataFrame(df_sum.groupby(['picture_id']).mean())\n",
    "# Format the dataframe by change rownames to column and use index as rownames\n",
    "avg_area_per_pic = avg_area_per_pic.rename_axis(\"picture_id\").reset_index()\n",
    "# extract mouse id\n",
    "avg_area_per_pic['mouse_id'] = [re.search('LG.*_.*_.*[BL]',avg_area_per_pic['picture_id'][i]).group()\n",
    "                        for i in range(avg_area_per_pic.shape[0])]\n",
    "# extract category\n",
    "avg_area_per_pic['category'] = [avg_area_per_pic['mouse_id'][i].split('_')[-1]\n",
    "                        for i in range(avg_area_per_pic.shape[0])]\n",
    "avg_area_per_pic = avg_area_per_pic.iloc[:,[-1,-2,0,2,7]]\n",
    "\n",
    "print(avg_area_per_pic.head())\n",
    "# Output dataframe\n",
    "avg_area_per_pic.to_csv(\"/Users/sylvia618/Desktop/Chen Lab/hek cells/input/avg_area&IntDen_per_pic.csv\",sep = \",\",index = False)"
   ]
  },
  {
   "cell_type": "code",
   "execution_count": 61,
   "id": "32c36cf9",
   "metadata": {},
   "outputs": [
    {
     "name": "stdout",
     "output_type": "stream",
     "text": [
      "             mouse_id       Area    IntDen category\n",
      "0       LG355_204_BHB  44.825862  0.000011      BHB\n",
      "1      LG355_206_CTRL  23.497216  0.000006     CTRL\n",
      "2      LG355_207_CTRL  21.842932  0.000006     CTRL\n",
      "3  LG355_208_6.5_CTRL  31.804666  0.000008     CTRL\n",
      "4   LG355_210_6.5_BHB  43.624821  0.000011      BHB\n"
     ]
    }
   ],
   "source": [
    "# Calculate mean count for each mouse\n",
    "avg_area_per_mouse = pd.DataFrame(avg_area_per_pic.groupby(['mouse_id']).mean())\n",
    "# Format the dataframe by change rownames to column and use index as rownames\n",
    "avg_area_per_mouse = avg_area_per_mouse.rename_axis(\"mouse_id\").reset_index()\n",
    "# extract category\n",
    "avg_area_per_mouse['category'] = [avg_area_per_mouse['mouse_id'][i].split('_')[-1]\n",
    "                        for i in range(avg_area_per_mouse.shape[0])]\n",
    "\n",
    "print(avg_area_per_mouse.head())\n",
    "# Output dataframe\n",
    "avg_area_per_mouse.to_csv(\"/Users/sylvia618/Desktop/Chen Lab/hek cells/input/avg_area&IntDen_per_mouse.csv\",sep = \",\",index = False)"
   ]
  },
  {
   "cell_type": "markdown",
   "id": "d1d9ea28",
   "metadata": {},
   "source": [
    "## 4. Create file for total area and integrated density on a single well per picture and per mouse"
   ]
  },
  {
   "cell_type": "code",
   "execution_count": 76,
   "id": "fe5d3fc6",
   "metadata": {},
   "outputs": [
    {
     "name": "stdout",
     "output_type": "stream",
     "text": [
      "  category        mouse_id        picture_id     Area    IntDen\n",
      "0      BHB   LG355_204_BHB   LG355_204_BHB_1  4913.04  0.001253\n",
      "1      BHB   LG355_204_BHB   LG355_204_BHB_2  4081.30  0.001041\n",
      "2      BHB   LG355_204_BHB   LG355_204_BHB_3  4056.26  0.001034\n",
      "3      BHB   LG355_204_BHB   LG355_204_BHB_4  4172.48  0.001064\n",
      "4     CTRL  LG355_206_CTRL  LG355_206_CTRL_1  4759.11  0.001214\n"
     ]
    }
   ],
   "source": [
    "# Calculate mean count for each mouse\n",
    "total_area_per_pic = pd.DataFrame(df_sum.groupby(['picture_id']).sum())\n",
    "# Format the dataframe by change rownames to column and use index as rownames\n",
    "total_area_per_pic = total_area_per_pic.rename_axis(\"picture_id\").reset_index()\n",
    "# extract mouse id\n",
    "total_area_per_pic['mouse_id'] = [re.search('LG.*_.*_.*[BL]',total_area_per_pic['picture_id'][i]).group()\n",
    "                        for i in range(total_area_per_pic.shape[0])]\n",
    "# extract category\n",
    "total_area_per_pic['category'] = [total_area_per_pic['mouse_id'][i].split('_')[-1]\n",
    "                        for i in range(total_area_per_pic.shape[0])]\n",
    "total_area_per_pic = total_area_per_pic.iloc[:,[-1,-2,0,2,7]]\n",
    "\n",
    "print(total_area_per_pic.head())\n",
    "# Output dataframe\n",
    "total_area_per_pic.to_csv(\"/Users/sylvia618/Desktop/Chen Lab/hek cells/input/total_area&IntDen_per_pic.csv\",sep = \",\",index = False)"
   ]
  },
  {
   "cell_type": "code",
   "execution_count": 77,
   "id": "28e74712",
   "metadata": {},
   "outputs": [
    {
     "name": "stdout",
     "output_type": "stream",
     "text": [
      "             mouse_id       Area    IntDen category\n",
      "0       LG355_204_BHB  4305.7700  0.001098      BHB\n",
      "1      LG355_206_CTRL  4836.1000  0.001233     CTRL\n",
      "2      LG355_207_CTRL  3327.0475  0.000848     CTRL\n",
      "3  LG355_208_6.5_CTRL  3086.7700  0.000790     CTRL\n",
      "4   LG355_210_6.5_BHB  4420.1325  0.001127      BHB\n"
     ]
    }
   ],
   "source": [
    "# Calculate mean count for each mouse\n",
    "total_area_per_mouse = pd.DataFrame(total_area_per_pic.groupby(['mouse_id']).mean())\n",
    "# Format the dataframe by change rownames to column and use index as rownames\n",
    "total_area_per_mouse = total_area_per_mouse.rename_axis(\"mouse_id\").reset_index()\n",
    "# extract category\n",
    "total_area_per_mouse['category'] = [total_area_per_mouse['mouse_id'][i].split('_')[-1]\n",
    "                        for i in range(total_area_per_mouse.shape[0])]\n",
    "\n",
    "print(total_area_per_mouse.head())\n",
    "# Output dataframe\n",
    "total_area_per_mouse.to_csv(\"/Users/sylvia618/Desktop/Chen Lab/hek cells/input/total_area&IntDen_per_mouse.csv\",sep = \",\",index = False)"
   ]
  },
  {
   "cell_type": "markdown",
   "id": "0232e75d",
   "metadata": {},
   "source": [
    "## 5. Input DAPI count, calculate `total area/DAPI` and `total IntDen/DAPI`"
   ]
  },
  {
   "cell_type": "code",
   "execution_count": 89,
   "id": "532a253a",
   "metadata": {},
   "outputs": [
    {
     "name": "stdout",
     "output_type": "stream",
     "text": [
      "                                                Label  Count  Total Area  \\\n",
      "0   LG355_204_BHB_6.5_10x_DAPI100ms_GFP_100ms_1_XY...   2472    0.002000   \n",
      "1   LG355_204_BHB_6.5_10x_DAPI100ms_GFP_100ms_2_XY...   2383    0.002000   \n",
      "2   LG355_204_BHB_6.5_10x_DAPI100ms_GFP_100ms_3_XY...   2453    0.002000   \n",
      "3   LG355_204_BHB_6.5_10x_DAPI100ms_GFP_100ms_4_XY...   2527    0.002000   \n",
      "4   LG355_206_CTRL_6.5_10x_DAPI100ms_GFP_100ms_3_X...    235    0.000064   \n",
      "5   LG355_206_CTRL_6.5_10x_DAPI100ms_GFP_100ms_2_X...   1984    0.001000   \n",
      "6   LG355_206_CTRL_6.5_10x_DAPI100ms_GFP_100ms_3_X...   2333    0.002000   \n",
      "7   LG355_206_CTRL_6.5_10x_DAPI100ms_GFP_100ms_4_X...   2307    0.002000   \n",
      "8   LG355_207_CTRL_6.5_10x_DAPI100ms_GFP_100ms_1_X...   2475    0.002000   \n",
      "9   LG355_207_CTRL_6.5_10x_DAPI100ms_GFP_100ms_2_X...   2279    0.002000   \n",
      "10  LG355_207_CTRL_6.5_10x_DAPI100ms_GFP_100ms_3_X...   1961    0.002000   \n",
      "11  LG355_207_CTRL_6.5_10x_DAPI100ms_GFP_100ms_4_X...   2403    0.002000   \n",
      "12  LG355_208_6.5_CTRL_DAPI100MS_GFP_100ms_10X_1_X...   2157    0.002000   \n",
      "13  LG355_208_6.5_CTRL_DAPI100MS_GFP_100ms_10X_2_X...   2538    0.002000   \n",
      "14  LG355_208_6.5_CTRL_DAPI100MS_GFP_100ms_10X_3_X...   2536    0.002000   \n",
      "15  LG355_208_6.5_CTRL_DAPI100MS_GFP_100ms_10X_4_X...   2715    0.002000   \n",
      "16  LG355_210_6.5_BHB_DAPI100MS_GFP_100ms_10X_1_XY...   2630    0.002000   \n",
      "17  LG355_210_6.5_BHB_DAPI100MS_GFP_100ms_10X_2_XY...   2606    0.002000   \n",
      "18  LG355_210_6.5_BHB_DAPI100MS_GFP_100ms_10X_3_XY...   2129    0.002000   \n",
      "19  LG355_210_6.5_BHB_DAPI100MS_GFP_100ms_10X_4_XY...   2071    0.002000   \n",
      "20  LG875_43_BHB_6.5_DAPI100MS_GFP_100ms_10X_1_XY1...   2311    0.002000   \n",
      "21  LG875_43_BHB_6.5_DAPI100MS_GFP_100ms_10X_2_XY1...   2336    0.002000   \n",
      "22  LG875_43_BHB_6.5_DAPI100MS_GFP_100ms_10X_3_XY1...   2791    0.002000   \n",
      "23  LG875_43_BHB_6.5_DAPI100MS_GFP_100ms_10X_4_XY1...   2786    0.002000   \n",
      "24  LG875_44_BHB_6.5_DAPI100MS_GFP_100ms_10X_1_XY1...   2577    0.002000   \n",
      "25  LG875_44_BHB_6.5_DAPI100MS_GFP_100ms_10X_2_XY1...   2454    0.002000   \n",
      "26  LG875_44_BHB_6.5_DAPI100MS_GFP_100ms_10X_3_XY1...   2223    0.002000   \n",
      "27  LG875_44_BHB_6.5_DAPI100MS_GFP_100ms_10X_4_XY1...   2456    0.002000   \n",
      "28  LG875_46_6.5_CTRL_DAPI100MS_GFP_100ms_10X_1_XY...   2524    0.002000   \n",
      "29  LG875_46_6.5_CTRL_DAPI100MS_GFP_100ms_10X_2_XY...   2086    0.002000   \n",
      "30  LG875_46_6.5_CTRL_DAPI100MS_GFP_100ms_10X_3_XY...   2407    0.002000   \n",
      "31  LG875_46_6.5_CTRL_DAPI100MS_GFP_100ms_10X_4_XY...   2440    0.002000   \n",
      "32  LG875_47_6.5_CTRL_DAPI100MS_GFP_100ms_10X_1_XY...   2476    0.002000   \n",
      "33  LG875_47_6.5_CTRL_DAPI100MS_GFP_100ms_10X_2_XY...   2561    0.002000   \n",
      "34  LG875_47_6.5_CTRL_DAPI100MS_GFP_100ms_10X_3_XY...   2580    0.002000   \n",
      "35  LG875_47_6.5_CTRL_DAPI100MS_GFP_100ms_10X_4_XY...   2353    0.002000   \n",
      "\n",
      "    Average Size  Area Fraction  Mean            mouse_id  \\\n",
      "0   7.426000e-07         32.100   255       LG355_204_BHB   \n",
      "1   7.112000e-07         29.600   255       LG355_204_BHB   \n",
      "2   7.551000e-07         32.300   255       LG355_204_BHB   \n",
      "3   7.202000e-07         31.800   255       LG355_204_BHB   \n",
      "4   2.720000e-07          1.115   255      LG355_206_CTRL   \n",
      "5   7.210000e-07         24.991   255      LG355_206_CTRL   \n",
      "6   7.020000e-07         28.598   255      LG355_206_CTRL   \n",
      "7   6.810000e-07         27.443   255      LG355_206_CTRL   \n",
      "8   7.350000e-07         31.800   255      LG355_207_CTRL   \n",
      "9   7.385000e-07         29.400   255      LG355_207_CTRL   \n",
      "10  8.733000e-07         29.900   255      LG355_207_CTRL   \n",
      "11  7.742000e-07         32.500   255      LG355_207_CTRL   \n",
      "12  9.955000e-07         37.500   255  LG355_208_6.5_CTRL   \n",
      "13  7.461000e-07         33.100   255  LG355_208_6.5_CTRL   \n",
      "14  8.504000e-07         37.700   255  LG355_208_6.5_CTRL   \n",
      "15  7.143000e-07         33.900   255  LG355_208_6.5_CTRL   \n",
      "16  7.013000e-07         32.200   255   LG355_210_6.5_BHB   \n",
      "17  7.057000e-07         32.100   255   LG355_210_6.5_BHB   \n",
      "18  9.544000e-07         35.500   255   LG355_210_6.5_BHB   \n",
      "19  7.823000e-07         28.300   255   LG355_210_6.5_BHB   \n",
      "20  8.565000e-07         34.600   255        LG875_43_BHB   \n",
      "21  8.856000e-07         36.100   255        LG875_43_BHB   \n",
      "22  7.696000e-07         37.500   255        LG875_43_BHB   \n",
      "23  7.554000e-07         36.800   255        LG875_43_BHB   \n",
      "24  7.433000e-07         33.500   255        LG875_44_BHB   \n",
      "25  7.923000e-07         34.000   255        LG875_44_BHB   \n",
      "26  8.725000e-07         33.900   255        LG875_44_BHB   \n",
      "27  8.033000e-07         34.500   255        LG875_44_BHB   \n",
      "28  7.078000e-07         31.200   255   LG875_46_6.5_CTRL   \n",
      "29  9.329000e-07         34.000   255   LG875_46_6.5_CTRL   \n",
      "30  7.605000e-07         32.000   255   LG875_46_6.5_CTRL   \n",
      "31  7.287000e-07         31.100   255   LG875_46_6.5_CTRL   \n",
      "32  7.566000e-07         32.700   255   LG875_47_6.5_CTRL   \n",
      "33  8.044000e-07         36.000   255   LG875_47_6.5_CTRL   \n",
      "34  7.877000e-07         35.500   255   LG875_47_6.5_CTRL   \n",
      "35  8.435000e-07         34.700   255   LG875_47_6.5_CTRL   \n",
      "\n",
      "              picture_id  \n",
      "0        LG355_204_BHB_1  \n",
      "1        LG355_204_BHB_2  \n",
      "2        LG355_204_BHB_3  \n",
      "3        LG355_204_BHB_4  \n",
      "4       LG355_206_CTRL_3  \n",
      "5       LG355_206_CTRL_2  \n",
      "6       LG355_206_CTRL_3  \n",
      "7       LG355_206_CTRL_4  \n",
      "8       LG355_207_CTRL_1  \n",
      "9       LG355_207_CTRL_2  \n",
      "10      LG355_207_CTRL_3  \n",
      "11      LG355_207_CTRL_4  \n",
      "12  LG355_208_6.5_CTRL_1  \n",
      "13  LG355_208_6.5_CTRL_2  \n",
      "14  LG355_208_6.5_CTRL_3  \n",
      "15  LG355_208_6.5_CTRL_4  \n",
      "16   LG355_210_6.5_BHB_1  \n",
      "17   LG355_210_6.5_BHB_2  \n",
      "18   LG355_210_6.5_BHB_3  \n",
      "19   LG355_210_6.5_BHB_4  \n",
      "20        LG875_43_BHB_1  \n",
      "21        LG875_43_BHB_2  \n",
      "22        LG875_43_BHB_3  \n",
      "23        LG875_43_BHB_4  \n",
      "24        LG875_44_BHB_1  \n",
      "25        LG875_44_BHB_2  \n",
      "26        LG875_44_BHB_3  \n",
      "27        LG875_44_BHB_4  \n",
      "28   LG875_46_6.5_CTRL_1  \n",
      "29   LG875_46_6.5_CTRL_2  \n",
      "30   LG875_46_6.5_CTRL_3  \n",
      "31   LG875_46_6.5_CTRL_4  \n",
      "32   LG875_47_6.5_CTRL_1  \n",
      "33   LG875_47_6.5_CTRL_2  \n",
      "34   LG875_47_6.5_CTRL_3  \n",
      "35   LG875_47_6.5_CTRL_4  \n"
     ]
    }
   ],
   "source": [
    "# Import the data\n",
    "df_file_DAPI = pd.read_excel('/Users/sylvia618/Desktop/Chen Lab/hek cells/input/DAPI/filepath.xls')\n",
    "# Create two new dataframe for storing the data\n",
    "df_DAPI = pd.DataFrame(columns=['Slice', 'Count', 'Total Area', 'Average Size', 'Area Fraction',\n",
    "       'Mean'])\n",
    "\n",
    "# Read file and concate by line for BHB group\n",
    "for file in df_file_DAPI['Filepath']:\n",
    "    df_DAPI = pd.merge(df_DAPI, pd.read_csv((file), sep = \"\\t\"), how = \"outer\")\n",
    "\n",
    "df_DAPI.rename({'Slice': 'Label'}, axis=1, inplace=True)\n",
    "# unify format\n",
    "df_DAPI['Label'] = [label.replace(\"GFP100MS\", \"GFP_100ms\") for label in df_DAPI['Label']]\n",
    "# Extract the id of mouse from column 'Label'\n",
    "df_DAPI['mouse_id'] = [re.search('LG.*_.*_.*[BL]',df_DAPI['Label'][i]).group() for i in range(df_DAPI.shape[0])]\n",
    "# Extract the if of picture from column 'Label'\n",
    "df_DAPI['picture_id'] = [re.search('^((?:[^_]*\\_){8})([^_]*)',df_DAPI['Label'][i]).group(2)\n",
    "                        for i in range(df_DAPI.shape[0])]\n",
    "df_DAPI['picture_id'] = df_DAPI['mouse_id'] + '_' + df_DAPI['picture_id']      # combine mouth id and picture id\n",
    "\n",
    "print(df_DAPI)"
   ]
  },
  {
   "cell_type": "code",
   "execution_count": 97,
   "id": "af4487c7",
   "metadata": {},
   "outputs": [
    {
     "name": "stdout",
     "output_type": "stream",
     "text": [
      "  category        mouse_id        picture_id     Area    IntDen  Count  \\\n",
      "0      BHB   LG355_204_BHB   LG355_204_BHB_1  4913.04  0.001253   2472   \n",
      "1      BHB   LG355_204_BHB   LG355_204_BHB_2  4081.30  0.001041   2383   \n",
      "2      BHB   LG355_204_BHB   LG355_204_BHB_3  4056.26  0.001034   2453   \n",
      "3      BHB   LG355_204_BHB   LG355_204_BHB_4  4172.48  0.001064   2527   \n",
      "4     CTRL  LG355_206_CTRL  LG355_206_CTRL_2  3893.81  0.000993   1984   \n",
      "\n",
      "   area_vs_DAPI  IntDen_vs_DAPI  \n",
      "0      1.987476    5.068390e-07  \n",
      "1      1.712673    4.367302e-07  \n",
      "2      1.653592    4.216641e-07  \n",
      "3      1.651159    4.210819e-07  \n",
      "4      1.962606    5.004884e-07  \n"
     ]
    }
   ],
   "source": [
    "# merge the total area of aggregates per pic and DAPI by picture id\n",
    "area_vs_DAPI_per_pic = pd.merge(total_area_per_pic, df_DAPI, how = \"inner\", on = \"picture_id\")\n",
    "# Calculate total area per DAPI and total IntDen per DAPI\n",
    "area_vs_DAPI_per_pic['area_vs_DAPI'] = area_vs_DAPI_per_pic['Area']/area_vs_DAPI_per_pic['Count']\n",
    "area_vs_DAPI_per_pic['IntDen_vs_DAPI']= area_vs_DAPI_per_pic['IntDen']/area_vs_DAPI_per_pic['Count']\n",
    "# Select columns\n",
    "area_vs_DAPI_per_pic = area_vs_DAPI_per_pic.iloc[:,[0,1,2,3,4,6,12,13]]\n",
    "# rename column\n",
    "area_vs_DAPI_per_pic.rename({'mouse_id_x': 'mouse_id'}, axis=1, inplace=True)\n",
    "# Check output\n",
    "print(area_vs_DAPI_per_pic.head())\n",
    "# Output dataframe\n",
    "area_vs_DAPI_per_pic.to_csv(\"/Users/sylvia618/Desktop/Chen Lab/hek cells/input/area&IntDen_vs_DAPI_per_pic.csv\",sep = \",\",index = False)"
   ]
  },
  {
   "cell_type": "code",
   "execution_count": 98,
   "id": "9f430abb",
   "metadata": {},
   "outputs": [
    {
     "name": "stdout",
     "output_type": "stream",
     "text": [
      "             mouse_id       Area    IntDen    Count  area_vs_DAPI  \\\n",
      "0       LG355_204_BHB  4305.7700  0.001098  2458.75      1.751225   \n",
      "1      LG355_206_CTRL  5132.5450  0.001309  1714.75      7.966414   \n",
      "2      LG355_207_CTRL  3327.0475  0.000848  2279.50      1.491791   \n",
      "3  LG355_208_6.5_CTRL  3086.7700  0.000790  2486.50      1.264507   \n",
      "4   LG355_210_6.5_BHB  4420.1325  0.001127  2359.00      1.920180   \n",
      "\n",
      "   IntDen_vs_DAPI category  \n",
      "0    4.465788e-07      BHB  \n",
      "1    2.031499e-06     CTRL  \n",
      "2    3.804247e-07     CTRL  \n",
      "3    3.235784e-07     CTRL  \n",
      "4    4.896706e-07      BHB  \n"
     ]
    }
   ],
   "source": [
    "# Calculate mean count for each mouse\n",
    "area_vs_DAPI_per_mouse = pd.DataFrame(area_vs_DAPI_per_pic.groupby(['mouse_id']).mean())\n",
    "# Format the dataframe by change rownames to column and use index as rownames\n",
    "area_vs_DAPI_per_mouse = area_vs_DAPI_per_mouse.rename_axis(\"mouse_id\").reset_index()\n",
    "# extract category\n",
    "area_vs_DAPI_per_mouse['category'] = [area_vs_DAPI_per_mouse['mouse_id'][i].split('_')[-1]\n",
    "                        for i in range(area_vs_DAPI_per_mouse.shape[0])]\n",
    "\n",
    "print(area_vs_DAPI_per_mouse.head())\n",
    "# Output dataframe\n",
    "area_vs_DAPI_per_mouse.to_csv(\"/Users/sylvia618/Desktop/Chen Lab/hek cells/input/area&IntDen_vs_DAPI_per_mouse.csv\",sep = \",\",index = False)"
   ]
  }
 ],
 "metadata": {
  "kernelspec": {
   "display_name": "Python 3.7.3 ('base')",
   "language": "python",
   "name": "python3"
  },
  "language_info": {
   "codemirror_mode": {
    "name": "ipython",
    "version": 3
   },
   "file_extension": ".py",
   "mimetype": "text/x-python",
   "name": "python",
   "nbconvert_exporter": "python",
   "pygments_lexer": "ipython3",
   "version": "3.7.3"
  },
  "vscode": {
   "interpreter": {
    "hash": "f2c54dd91b0e242b4c9bce8ee6f7986cd007d04d8e52a297b0a7bfa211c6a538"
   }
  }
 },
 "nbformat": 4,
 "nbformat_minor": 5
}
